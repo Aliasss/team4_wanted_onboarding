{
 "cells": [
  {
   "cell_type": "markdown",
   "metadata": {
    "heading_collapsed": true
   },
   "source": [
    "### 모듈 import"
   ]
  },
  {
   "cell_type": "code",
   "execution_count": 126,
   "metadata": {
    "hidden": true
   },
   "outputs": [],
   "source": [
    "import numpy as np\n",
    "import pandas as pd\n",
    "\n",
    "# visualization\n",
    "\n",
    "import matplotlib.pyplot as plt\n",
    "import seaborn as sns\n",
    "%matplotlib inline\n",
    "sns.set_style(style=\"white\")\n",
    "plt.rc('font', family='Malgun Gothic') \n",
    "plt.rcParams['figure.figsize'] = (10, 7)\n",
    "plt.rcParams['axes.unicode_minus'] = False    # minus\n",
    "\n",
    "# interactive\n",
    "import plotly.express as px\n",
    "import plotly.graph_objects as go\n",
    "from plotly.subplots import make_subplots\n",
    "\n",
    "import warnings\n",
    "warnings.filterwarnings('ignore')"
   ]
  },
  {
   "cell_type": "markdown",
   "metadata": {
    "heading_collapsed": true
   },
   "source": [
    "### 노트북 세팅"
   ]
  },
  {
   "cell_type": "code",
   "execution_count": 4,
   "metadata": {
    "hidden": true
   },
   "outputs": [],
   "source": [
    "# 노트북 세팅\n",
    "pd.options.display.float_format = '{:.2f}'.format"
   ]
  },
  {
   "cell_type": "markdown",
   "metadata": {
    "heading_collapsed": true
   },
   "source": [
    "## 유니콘 기업 재정의\n",
    "- 2021년 (누적) 기준으로 유니콘 기업으로 선정된 기업들 중 하기 7개 기업의 국민연금 데이터로 분석 방향을 설정함"
   ]
  },
  {
   "cell_type": "markdown",
   "metadata": {
    "hidden": true
   },
   "source": [
    "### 유니콘 기업으로 선정된 기업 정보 수집 \n",
    "- 출처 : https://www.data.go.kr/data/3046071/fileData.do\n",
    "- 수집 대상 기업 : 비바리퍼블리카, 쏘카, 무신사, 크래프톤, 야놀자, 에이프로젠, 지피클럽\n",
    "- 수집 대상 기간 : 2015-2019년 (매년 12월 데이터)"
   ]
  },
  {
   "cell_type": "code",
   "execution_count": null,
   "metadata": {
    "hidden": true
   },
   "outputs": [],
   "source": [
    "unicorn2019 = pd.read_csv(\"국민연금 가입 사업장 내역 2019년 12월.csv\", encoding='cp949')\n",
    "unicorn2018 = pd.read_csv(\"국민연금 가입 사업장 내역 2018년 12월.csv\", encoding='cp949')\n",
    "unicorn2017 = pd.read_csv(\"국민연금 가입 사업장 내역 2017년 12월.csv\", encoding='cp949')\n",
    "unicorn2016 = pd.read_csv(\"국민연금 가입 사업장 내역 2016년 12월.csv\", encoding='cp949')\n",
    "unicorn2015 = pd.read_csv(\"국민연금 가입 사업장 내역 2015년 12월.csv\", encoding='cp949')"
   ]
  },
  {
   "cell_type": "code",
   "execution_count": null,
   "metadata": {
    "hidden": true
   },
   "outputs": [],
   "source": [
    "df_unicorn=pd.DataFrame()\n",
    "unicorn_list = ['비바리퍼블리카$', '쏘카', '주식회사 무신사', '크래프톤', '.주.야놀자$', '.주.에이프로젠$', '지피클럽']\n",
    "for i in unicorn_list :\n",
    "    df_unicorn = df_unicorn.append(unicorn2019[unicorn2019['사업장명 WKPL_NM\\tVARCHAR(100)'].str.contains(i)])\n",
    "    df_unicorn = df_unicorn.append(unicorn2018[unicorn2018['사업장명 WKPL_NM\\tVARCHAR(100)'].str.contains(i)])\n",
    "    df_unicorn = df_unicorn.append(unicorn2017[unicorn2017['사업장명 WKPL_NM\\tVARCHAR(100)'].str.contains(i)])\n",
    "    df_unicorn = df_unicorn.append(unicorn2016[unicorn2016['사업장명 WKPL_NM\\tVARCHAR(100)'].str.contains(i)])\n",
    "    df_unicorn = df_unicorn.append(unicorn2015[unicorn2015['사업장명 WKPL_NM\\tVARCHAR(100)'].str.contains(i)])\n",
    "\n",
    "# 불필요한 컬럼 제거 및 인덱스 리셋\n",
    "df_unicorn.drop(df_unicorn.filter(regex='주소|가입상태|우편번호|등록번호|등록일자|사업장업종코드 WKPL|탈퇴일자|구분코드').columns , axis=1, inplace=True)\n",
    "df_unicorn = df_unicorn.reset_index().drop('index', axis=1)\n",
    "\n",
    "# 컬럼명 재지정\n",
    "unicorn_newcol = ['년월','사업장명','업종', '적용일자', '직원수', '연금보험료', '신규취득자수','상실가입자수' ]\n",
    "df_unicorn.columns = unicorn_newcol\n",
    "\n",
    "# 연도, 월 컬럼 생성\n",
    "df_unicorn[['년도','월']]=pd.DataFrame(df_unicorn['년월'].str.split('-',2).tolist())\n",
    "df_unicorn.drop(['년월','월'], axis=1, inplace=True)\n",
    "df_unicorn['년도'] = df_unicorn['년도'].astype('int64')\n",
    "\n",
    "# 7개 유니콘 기업 기본 정보 (trend 파악용)\n",
    "df_unicorn.to_csv('유니콘기업정보.csv')"
   ]
  },
  {
   "cell_type": "code",
   "execution_count": 14,
   "metadata": {
    "hidden": true,
    "scrolled": true
   },
   "outputs": [
    {
     "data": {
      "text/html": [
       "<div>\n",
       "<style scoped>\n",
       "    .dataframe tbody tr th:only-of-type {\n",
       "        vertical-align: middle;\n",
       "    }\n",
       "\n",
       "    .dataframe tbody tr th {\n",
       "        vertical-align: top;\n",
       "    }\n",
       "\n",
       "    .dataframe thead th {\n",
       "        text-align: right;\n",
       "    }\n",
       "</style>\n",
       "<table border=\"1\" class=\"dataframe\">\n",
       "  <thead>\n",
       "    <tr style=\"text-align: right;\">\n",
       "      <th></th>\n",
       "      <th>Unnamed: 0</th>\n",
       "      <th>사업장명</th>\n",
       "      <th>업종</th>\n",
       "      <th>적용일자</th>\n",
       "      <th>직원수</th>\n",
       "      <th>연금보험료</th>\n",
       "      <th>신규취득자수</th>\n",
       "      <th>상실가입자수</th>\n",
       "      <th>년도</th>\n",
       "    </tr>\n",
       "  </thead>\n",
       "  <tbody>\n",
       "    <tr>\n",
       "      <th>0</th>\n",
       "      <td>0</td>\n",
       "      <td>（주）비바리퍼블리카</td>\n",
       "      <td>응용 소프트웨어 개발 및 공급업</td>\n",
       "      <td>2013-08-01</td>\n",
       "      <td>310</td>\n",
       "      <td>118457320</td>\n",
       "      <td>18</td>\n",
       "      <td>12</td>\n",
       "      <td>2019</td>\n",
       "    </tr>\n",
       "    <tr>\n",
       "      <th>1</th>\n",
       "      <td>1</td>\n",
       "      <td>（주）비바리퍼블리카</td>\n",
       "      <td>응용 소프트웨어 개발 및 공급업</td>\n",
       "      <td>2013-08-01</td>\n",
       "      <td>158</td>\n",
       "      <td>57709520</td>\n",
       "      <td>5</td>\n",
       "      <td>3</td>\n",
       "      <td>2018</td>\n",
       "    </tr>\n",
       "    <tr>\n",
       "      <th>2</th>\n",
       "      <td>2</td>\n",
       "      <td>（주）비바리퍼블리카</td>\n",
       "      <td>응용 소프트웨어 개발 및 공급업</td>\n",
       "      <td>2013-08-01</td>\n",
       "      <td>103</td>\n",
       "      <td>34070000</td>\n",
       "      <td>5</td>\n",
       "      <td>2</td>\n",
       "      <td>2017</td>\n",
       "    </tr>\n",
       "    <tr>\n",
       "      <th>3</th>\n",
       "      <td>3</td>\n",
       "      <td>（주）비바리퍼블리카</td>\n",
       "      <td>응용 소프트웨어 개발 및 공급업</td>\n",
       "      <td>2013-08-01</td>\n",
       "      <td>60</td>\n",
       "      <td>17035140</td>\n",
       "      <td>5</td>\n",
       "      <td>3</td>\n",
       "      <td>2016</td>\n",
       "    </tr>\n",
       "    <tr>\n",
       "      <th>4</th>\n",
       "      <td>4</td>\n",
       "      <td>（주）비바리퍼블리카</td>\n",
       "      <td>응용 소프트웨어 개발 및 공급업</td>\n",
       "      <td>2013-08-01</td>\n",
       "      <td>27</td>\n",
       "      <td>6171340</td>\n",
       "      <td>0</td>\n",
       "      <td>2</td>\n",
       "      <td>2015</td>\n",
       "    </tr>\n",
       "  </tbody>\n",
       "</table>\n",
       "</div>"
      ],
      "text/plain": [
       "   Unnamed: 0        사업장명                 업종        적용일자  직원수      연금보험료  \\\n",
       "0           0  （주）비바리퍼블리카  응용 소프트웨어 개발 및 공급업  2013-08-01  310  118457320   \n",
       "1           1  （주）비바리퍼블리카  응용 소프트웨어 개발 및 공급업  2013-08-01  158   57709520   \n",
       "2           2  （주）비바리퍼블리카  응용 소프트웨어 개발 및 공급업  2013-08-01  103   34070000   \n",
       "3           3  （주）비바리퍼블리카  응용 소프트웨어 개발 및 공급업  2013-08-01   60   17035140   \n",
       "4           4  （주）비바리퍼블리카  응용 소프트웨어 개발 및 공급업  2013-08-01   27    6171340   \n",
       "\n",
       "   신규취득자수  상실가입자수    년도  \n",
       "0      18      12  2019  \n",
       "1       5       3  2018  \n",
       "2       5       2  2017  \n",
       "3       5       3  2016  \n",
       "4       0       2  2015  "
      ]
     },
     "execution_count": 14,
     "metadata": {},
     "output_type": "execute_result"
    }
   ],
   "source": [
    "df_unicorn = pd.read_csv('유니콘기업정보.csv')\n",
    "df_unicorn.head()"
   ]
  },
  {
   "cell_type": "code",
   "execution_count": 6,
   "metadata": {
    "hidden": true
   },
   "outputs": [
    {
     "data": {
      "text/plain": [
       "사업장명\n",
       "(주)야놀자        5\n",
       "(주)에이프로젠      5\n",
       "(주)크래프톤       5\n",
       "주식회사 무신사      5\n",
       "주식회사쏘카        5\n",
       "（주）비바리퍼블리카    5\n",
       "（주）지피클럽       5\n",
       "Name: 년도, dtype: int64"
      ]
     },
     "execution_count": 6,
     "metadata": {},
     "output_type": "execute_result"
    }
   ],
   "source": [
    "# 데이터 보유 기간 동일\n",
    "df_unicorn.groupby('사업장명').count()['년도']"
   ]
  },
  {
   "cell_type": "code",
   "execution_count": 127,
   "metadata": {
    "hidden": true,
    "scrolled": true
   },
   "outputs": [
    {
     "data": {
      "text/plain": [
       "<matplotlib.axes._subplots.AxesSubplot at 0x1c403dcd0b8>"
      ]
     },
     "execution_count": 127,
     "metadata": {},
     "output_type": "execute_result"
    },
    {
     "data": {
      "image/png": "[encoded data removed]",
      "text/plain": [
       "<Figure size 936x432 with 2 Axes>"
      ]
     },
     "metadata": {},
     "output_type": "display_data"
    }
   ],
   "source": [
    "fig, axes = plt.subplots(ncols=2, figsize=(13,6), sharex=True, sharey=True)\n",
    "\n",
    "sns.lineplot(data = df_unicorn[['사업장명','직원수','년도']], x='년도', y='직원수', ax=axes[0])\n",
    "sns.lineplot(data = df_unicorn[['사업장명','직원수','년도']], x='년도', y='직원수', hue='사업장명', ax=axes[1])"
   ]
  },
  {
   "cell_type": "code",
   "execution_count": 11,
   "metadata": {
    "hidden": true,
    "scrolled": false
   },
   "outputs": [
    {
     "data": {
      "application/vnd.plotly.v1+json": {
       "config": {
        "plotlyServerURL": "https://plot.ly"
       },
       "data": [
        {
         "hovertemplate": "<b>%{hovertext}</b><br><br>사업장명=（주）비바리퍼블리카<br>년도=%{x}<br>직원수=%{y}<extra></extra>",
         "hovertext": [
          "（주）비바리퍼블리카",
          "（주）비바리퍼블리카",
          "（주）비바리퍼블리카",
          "（주）비바리퍼블리카",
          "（주）비바리퍼블리카"
         ],
         "legendgroup": "（주）비바리퍼블리카",
         "line": {
          "color": "#636efa",
          "dash": "solid"
         },
         "mode": "lines",
         "name": "（주）비바리퍼블리카",
         "orientation": "v",
         "showlegend": true,
         "type": "scatter",
         "x": [
          2019,
          2018,
          2017,
          2016,
          2015
         ],
         "xaxis": "x",
         "y": [
          310,
          158,
          103,
          60,
          27
         ],
         "yaxis": "y"
        },
        {
         "hovertemplate": "<b>%{hovertext}</b><br><br>사업장명=주식회사쏘카<br>년도=%{x}<br>직원수=%{y}<extra></extra>",
         "hovertext": [
          "주식회사쏘카",
          "주식회사쏘카",
          "주식회사쏘카",
          "주식회사쏘카",
          "주식회사쏘카"
         ],
         "legendgroup": "주식회사쏘카",
         "line": {
          "color": "#EF553B",
          "dash": "solid"
         },
         "mode": "lines",
         "name": "주식회사쏘카",
         "orientation": "v",
         "showlegend": true,
         "type": "scatter",
         "x": [
          2019,
          2018,
          2017,
          2016,
          2015
         ],
         "xaxis": "x",
         "y": [
          364,
          281,
          287,
          271,
          89
         ],
         "yaxis": "y"
        },
        {
         "hovertemplate": "<b>%{hovertext}</b><br><br>사업장명=주식회사 무신사<br>년도=%{x}<br>직원수=%{y}<extra></extra>",
         "hovertext": [
          "주식회사 무신사",
          "주식회사 무신사",
          "주식회사 무신사",
          "주식회사 무신사",
          "주식회사 무신사"
         ],
         "legendgroup": "주식회사 무신사",
         "line": {
          "color": "#00cc96",
          "dash": "solid"
         },
         "mode": "lines",
         "name": "주식회사 무신사",
         "orientation": "v",
         "showlegend": true,
         "type": "scatter",
         "x": [
          2019,
          2018,
          2017,
          2016,
          2015
         ],
         "xaxis": "x",
         "y": [
          332,
          174,
          100,
          84,
          61
         ],
         "yaxis": "y"
        },
        {
         "hovertemplate": "<b>%{hovertext}</b><br><br>사업장명=(주)크래프톤<br>년도=%{x}<br>직원수=%{y}<extra></extra>",
         "hovertext": [
          "(주)크래프톤",
          "(주)크래프톤",
          "(주)크래프톤",
          "(주)크래프톤",
          "(주)크래프톤"
         ],
         "legendgroup": "(주)크래프톤",
         "line": {
          "color": "#ab63fa",
          "dash": "solid"
         },
         "mode": "lines",
         "name": "(주)크래프톤",
         "orientation": "v",
         "showlegend": true,
         "type": "scatter",
         "x": [
          2019,
          2018,
          2017,
          2016,
          2015
         ],
         "xaxis": "x",
         "y": [
          718,
          570,
          404,
          257,
          244
         ],
         "yaxis": "y"
        },
        {
         "hovertemplate": "<b>%{hovertext}</b><br><br>사업장명=(주)야놀자<br>년도=%{x}<br>직원수=%{y}<extra></extra>",
         "hovertext": [
          "(주)야놀자",
          "(주)야놀자",
          "(주)야놀자",
          "(주)야놀자",
          "(주)야놀자"
         ],
         "legendgroup": "(주)야놀자",
         "line": {
          "color": "#FFA15A",
          "dash": "solid"
         },
         "mode": "lines",
         "name": "(주)야놀자",
         "orientation": "v",
         "showlegend": true,
         "type": "scatter",
         "x": [
          2019,
          2018,
          2017,
          2016,
          2015
         ],
         "xaxis": "x",
         "y": [
          752,
          414,
          281,
          218,
          130
         ],
         "yaxis": "y"
        },
        {
         "hovertemplate": "<b>%{hovertext}</b><br><br>사업장명=(주)에이프로젠<br>년도=%{x}<br>직원수=%{y}<extra></extra>",
         "hovertext": [
          "(주)에이프로젠",
          "(주)에이프로젠",
          "(주)에이프로젠",
          "(주)에이프로젠",
          "(주)에이프로젠"
         ],
         "legendgroup": "(주)에이프로젠",
         "line": {
          "color": "#19d3f3",
          "dash": "solid"
         },
         "mode": "lines",
         "name": "(주)에이프로젠",
         "orientation": "v",
         "showlegend": true,
         "type": "scatter",
         "x": [
          2019,
          2018,
          2017,
          2016,
          2015
         ],
         "xaxis": "x",
         "y": [
          178,
          128,
          145,
          119,
          85
         ],
         "yaxis": "y"
        },
        {
         "hovertemplate": "<b>%{hovertext}</b><br><br>사업장명=（주）지피클럽<br>년도=%{x}<br>직원수=%{y}<extra></extra>",
         "hovertext": [
          "（주）지피클럽",
          "（주）지피클럽",
          "（주）지피클럽",
          "（주）지피클럽",
          "（주）지피클럽"
         ],
         "legendgroup": "（주）지피클럽",
         "line": {
          "color": "#FF6692",
          "dash": "solid"
         },
         "mode": "lines",
         "name": "（주）지피클럽",
         "orientation": "v",
         "showlegend": true,
         "type": "scatter",
         "x": [
          2019,
          2018,
          2017,
          2016,
          2015
         ],
         "xaxis": "x",
         "y": [
          113,
          47,
          12,
          13,
          8
         ],
         "yaxis": "y"
        }
       ],
       "layout": {
        "autosize": false,
        "height": 500,
        "legend": {
         "title": {
          "text": "사업장명"
         },
         "tracegroupgap": 0
        },
        "template": {
         "data": {
          "bar": [
           {
            "error_x": {
             "color": "#2a3f5f"
            },
            "error_y": {
             "color": "#2a3f5f"
            },
            "marker": {
             "line": {
              "color": "#E5ECF6",
              "width": 0.5
             }
            },
            "type": "bar"
           }
          ],
          "barpolar": [
           {
            "marker": {
             "line": {
              "color": "#E5ECF6",
              "width": 0.5
             }
            },
            "type": "barpolar"
           }
          ],
          "carpet": [
           {
            "aaxis": {
             "endlinecolor": "#2a3f5f",
             "gridcolor": "white",
             "linecolor": "white",
             "minorgridcolor": "white",
             "startlinecolor": "#2a3f5f"
            },
            "baxis": {
             "endlinecolor": "#2a3f5f",
             "gridcolor": "white",
             "linecolor": "white",
             "minorgridcolor": "white",
             "startlinecolor": "#2a3f5f"
            },
            "type": "carpet"
           }
          ],
          "choropleth": [
           {
            "colorbar": {
             "outlinewidth": 0,
             "ticks": ""
            },
            "type": "choropleth"
           }
          ],
          "contour": [
           {
            "colorbar": {
             "outlinewidth": 0,
             "ticks": ""
            },
            "colorscale": [
             [
              0,
              "#0d0887"
             ],
             [
              0.1111111111111111,
              "#46039f"
             ],
             [
              0.2222222222222222,
              "#7201a8"
             ],
             [
              0.3333333333333333,
              "#9c179e"
             ],
             [
              0.4444444444444444,
              "#bd3786"
             ],
             [
              0.5555555555555556,
              "#d8576b"
             ],
             [
              0.6666666666666666,
              "#ed7953"
             ],
             [
              0.7777777777777778,
              "#fb9f3a"
             ],
             [
              0.8888888888888888,
              "#fdca26"
             ],
             [
              1,
              "#f0f921"
             ]
            ],
            "type": "contour"
           }
          ],
          "contourcarpet": [
           {
            "colorbar": {
             "outlinewidth": 0,
             "ticks": ""
            },
            "type": "contourcarpet"
           }
          ],
          "heatmap": [
           {
            "colorbar": {
             "outlinewidth": 0,
             "ticks": ""
            },
            "colorscale": [
             [
              0,
              "#0d0887"
             ],
             [
              0.1111111111111111,
              "#46039f"
             ],
             [
              0.2222222222222222,
              "#7201a8"
             ],
             [
              0.3333333333333333,
              "#9c179e"
             ],
             [
              0.4444444444444444,
              "#bd3786"
             ],
             [
              0.5555555555555556,
              "#d8576b"
             ],
             [
              0.6666666666666666,
              "#ed7953"
             ],
             [
              0.7777777777777778,
              "#fb9f3a"
             ],
             [
              0.8888888888888888,
              "#fdca26"
             ],
             [
              1,
              "#f0f921"
             ]
            ],
            "type": "heatmap"
           }
          ],
          "heatmapgl": [
           {
            "colorbar": {
             "outlinewidth": 0,
             "ticks": ""
            },
            "colorscale": [
             [
              0,
              "#0d0887"
             ],
             [
              0.1111111111111111,
              "#46039f"
             ],
             [
              0.2222222222222222,
              "#7201a8"
             ],
             [
              0.3333333333333333,
              "#9c179e"
             ],
             [
              0.4444444444444444,
              "#bd3786"
             ],
             [
              0.5555555555555556,
              "#d8576b"
             ],
             [
              0.6666666666666666,
              "#ed7953"
             ],
             [
              0.7777777777777778,
              "#fb9f3a"
             ],
             [
              0.8888888888888888,
              "#fdca26"
             ],
             [
              1,
              "#f0f921"
             ]
            ],
            "type": "heatmapgl"
           }
          ],
          "histogram": [
           {
            "marker": {
             "colorbar": {
              "outlinewidth": 0,
              "ticks": ""
             }
            },
            "type": "histogram"
           }
          ],
          "histogram2d": [
           {
            "colorbar": {
             "outlinewidth": 0,
             "ticks": ""
            },
            "colorscale": [
             [
              0,
              "#0d0887"
             ],
             [
              0.1111111111111111,
              "#46039f"
             ],
             [
              0.2222222222222222,
              "#7201a8"
             ],
             [
              0.3333333333333333,
              "#9c179e"
             ],
             [
              0.4444444444444444,
              "#bd3786"
             ],
             [
              0.5555555555555556,
              "#d8576b"
             ],
             [
              0.6666666666666666,
              "#ed7953"
             ],
             [
              0.7777777777777778,
              "#fb9f3a"
             ],
             [
              0.8888888888888888,
              "#fdca26"
             ],
             [
              1,
              "#f0f921"
             ]
            ],
            "type": "histogram2d"
           }
          ],
          "histogram2dcontour": [
           {
            "colorbar": {
             "outlinewidth": 0,
             "ticks": ""
            },
            "colorscale": [
             [
              0,
              "#0d0887"
             ],
             [
              0.1111111111111111,
              "#46039f"
             ],
             [
              0.2222222222222222,
              "#7201a8"
             ],
             [
              0.3333333333333333,
              "#9c179e"
             ],
             [
              0.4444444444444444,
              "#bd3786"
             ],
             [
              0.5555555555555556,
              "#d8576b"
             ],
             [
              0.6666666666666666,
              "#ed7953"
             ],
             [
              0.7777777777777778,
              "#fb9f3a"
             ],
             [
              0.8888888888888888,
              "#fdca26"
             ],
             [
              1,
              "#f0f921"
             ]
            ],
            "type": "histogram2dcontour"
           }
          ],
          "mesh3d": [
           {
            "colorbar": {
             "outlinewidth": 0,
             "ticks": ""
            },
            "type": "mesh3d"
           }
          ],
          "parcoords": [
           {
            "line": {
             "colorbar": {
              "outlinewidth": 0,
              "ticks": ""
             }
            },
            "type": "parcoords"
           }
          ],
          "pie": [
           {
            "automargin": true,
            "type": "pie"
           }
          ],
          "scatter": [
           {
            "marker": {
             "colorbar": {
              "outlinewidth": 0,
              "ticks": ""
             }
            },
            "type": "scatter"
           }
          ],
          "scatter3d": [
           {
            "line": {
             "colorbar": {
              "outlinewidth": 0,
              "ticks": ""
             }
            },
            "marker": {
             "colorbar": {
              "outlinewidth": 0,
              "ticks": ""
             }
            },
            "type": "scatter3d"
           }
          ],
          "scattercarpet": [
           {
            "marker": {
             "colorbar": {
              "outlinewidth": 0,
              "ticks": ""
             }
            },
            "type": "scattercarpet"
           }
          ],
          "scattergeo": [
           {
            "marker": {
             "colorbar": {
              "outlinewidth": 0,
              "ticks": ""
             }
            },
            "type": "scattergeo"
           }
          ],
          "scattergl": [
           {
            "marker": {
             "colorbar": {
              "outlinewidth": 0,
              "ticks": ""
             }
            },
            "type": "scattergl"
           }
          ],
          "scattermapbox": [
           {
            "marker": {
             "colorbar": {
              "outlinewidth": 0,
              "ticks": ""
             }
            },
            "type": "scattermapbox"
           }
          ],
          "scatterpolar": [
           {
            "marker": {
             "colorbar": {
              "outlinewidth": 0,
              "ticks": ""
             }
            },
            "type": "scatterpolar"
           }
          ],
          "scatterpolargl": [
           {
            "marker": {
             "colorbar": {
              "outlinewidth": 0,
              "ticks": ""
             }
            },
            "type": "scatterpolargl"
           }
          ],
          "scatterternary": [
           {
            "marker": {
             "colorbar": {
              "outlinewidth": 0,
              "ticks": ""
             }
            },
            "type": "scatterternary"
           }
          ],
          "surface": [
           {
            "colorbar": {
             "outlinewidth": 0,
             "ticks": ""
            },
            "colorscale": [
             [
              0,
              "#0d0887"
             ],
             [
              0.1111111111111111,
              "#46039f"
             ],
             [
              0.2222222222222222,
              "#7201a8"
             ],
             [
              0.3333333333333333,
              "#9c179e"
             ],
             [
              0.4444444444444444,
              "#bd3786"
             ],
             [
              0.5555555555555556,
              "#d8576b"
             ],
             [
              0.6666666666666666,
              "#ed7953"
             ],
             [
              0.7777777777777778,
              "#fb9f3a"
             ],
             [
              0.8888888888888888,
              "#fdca26"
             ],
             [
              1,
              "#f0f921"
             ]
            ],
            "type": "surface"
           }
          ],
          "table": [
           {
            "cells": {
             "fill": {
              "color": "#EBF0F8"
             },
             "line": {
              "color": "white"
             }
            },
            "header": {
             "fill": {
              "color": "#C8D4E3"
             },
             "line": {
              "color": "white"
             }
            },
            "type": "table"
           }
          ]
         },
         "layout": {
          "annotationdefaults": {
           "arrowcolor": "#2a3f5f",
           "arrowhead": 0,
           "arrowwidth": 1
          },
          "autotypenumbers": "strict",
          "coloraxis": {
           "colorbar": {
            "outlinewidth": 0,
            "ticks": ""
           }
          },
          "colorscale": {
           "diverging": [
            [
             0,
             "#8e0152"
            ],
            [
             0.1,
             "#c51b7d"
            ],
            [
             0.2,
             "#de77ae"
            ],
            [
             0.3,
             "#f1b6da"
            ],
            [
             0.4,
             "#fde0ef"
            ],
            [
             0.5,
             "#f7f7f7"
            ],
            [
             0.6,
             "#e6f5d0"
            ],
            [
             0.7,
             "#b8e186"
            ],
            [
             0.8,
             "#7fbc41"
            ],
            [
             0.9,
             "#4d9221"
            ],
            [
             1,
             "#276419"
            ]
           ],
           "sequential": [
            [
             0,
             "#0d0887"
            ],
            [
             0.1111111111111111,
             "#46039f"
            ],
            [
             0.2222222222222222,
             "#7201a8"
            ],
            [
             0.3333333333333333,
             "#9c179e"
            ],
            [
             0.4444444444444444,
             "#bd3786"
            ],
            [
             0.5555555555555556,
             "#d8576b"
            ],
            [
             0.6666666666666666,
             "#ed7953"
            ],
            [
             0.7777777777777778,
             "#fb9f3a"
            ],
            [
             0.8888888888888888,
             "#fdca26"
            ],
            [
             1,
             "#f0f921"
            ]
           ],
           "sequentialminus": [
            [
             0,
             "#0d0887"
            ],
            [
             0.1111111111111111,
             "#46039f"
            ],
            [
             0.2222222222222222,
             "#7201a8"
            ],
            [
             0.3333333333333333,
             "#9c179e"
            ],
            [
             0.4444444444444444,
             "#bd3786"
            ],
            [
             0.5555555555555556,
             "#d8576b"
            ],
            [
             0.6666666666666666,
             "#ed7953"
            ],
            [
             0.7777777777777778,
             "#fb9f3a"
            ],
            [
             0.8888888888888888,
             "#fdca26"
            ],
            [
             1,
             "#f0f921"
            ]
           ]
          },
          "colorway": [
           "#636efa",
           "#EF553B",
           "#00cc96",
           "#ab63fa",
           "#FFA15A",
           "#19d3f3",
           "#FF6692",
           "#B6E880",
           "#FF97FF",
           "#FECB52"
          ],
          "font": {
           "color": "#2a3f5f"
          },
          "geo": {
           "bgcolor": "white",
           "lakecolor": "white",
           "landcolor": "#E5ECF6",
           "showlakes": true,
           "showland": true,
           "subunitcolor": "white"
          },
          "hoverlabel": {
           "align": "left"
          },
          "hovermode": "closest",
          "mapbox": {
           "style": "light"
          },
          "paper_bgcolor": "white",
          "plot_bgcolor": "#E5ECF6",
          "polar": {
           "angularaxis": {
            "gridcolor": "white",
            "linecolor": "white",
            "ticks": ""
           },
           "bgcolor": "#E5ECF6",
           "radialaxis": {
            "gridcolor": "white",
            "linecolor": "white",
            "ticks": ""
           }
          },
          "scene": {
           "xaxis": {
            "backgroundcolor": "#E5ECF6",
            "gridcolor": "white",
            "gridwidth": 2,
            "linecolor": "white",
            "showbackground": true,
            "ticks": "",
            "zerolinecolor": "white"
           },
           "yaxis": {
            "backgroundcolor": "#E5ECF6",
            "gridcolor": "white",
            "gridwidth": 2,
            "linecolor": "white",
            "showbackground": true,
            "ticks": "",
            "zerolinecolor": "white"
           },
           "zaxis": {
            "backgroundcolor": "#E5ECF6",
            "gridcolor": "white",
            "gridwidth": 2,
            "linecolor": "white",
            "showbackground": true,
            "ticks": "",
            "zerolinecolor": "white"
           }
          },
          "shapedefaults": {
           "line": {
            "color": "#2a3f5f"
           }
          },
          "ternary": {
           "aaxis": {
            "gridcolor": "white",
            "linecolor": "white",
            "ticks": ""
           },
           "baxis": {
            "gridcolor": "white",
            "linecolor": "white",
            "ticks": ""
           },
           "bgcolor": "#E5ECF6",
           "caxis": {
            "gridcolor": "white",
            "linecolor": "white",
            "ticks": ""
           }
          },
          "title": {
           "x": 0.05
          },
          "xaxis": {
           "automargin": true,
           "gridcolor": "white",
           "linecolor": "white",
           "ticks": "",
           "title": {
            "standoff": 15
           },
           "zerolinecolor": "white",
           "zerolinewidth": 2
          },
          "yaxis": {
           "automargin": true,
           "gridcolor": "white",
           "linecolor": "white",
           "ticks": "",
           "title": {
            "standoff": 15
           },
           "zerolinecolor": "white",
           "zerolinewidth": 2
          }
         }
        },
        "title": {
         "text": "유니콘 기업 연도별 국민연금 가입자 수"
        },
        "width": 600,
        "xaxis": {
         "anchor": "y",
         "domain": [
          0,
          1
         ],
         "title": {
          "text": "년도"
         }
        },
        "yaxis": {
         "anchor": "x",
         "domain": [
          0,
          1
         ],
         "title": {
          "text": "직원수"
         }
        }
       }
      },
      "text/html": [
       "<div>                            <div id=\"cc4af0eb-2545-4c05-98e3-d8907d3f01b5\" class=\"plotly-graph-div\" style=\"height:500px; width:600px;\"></div>            <script type=\"text/javascript\">                require([\"plotly\"], function(Plotly) {                    window.PLOTLYENV=window.PLOTLYENV || {};                                    if (document.getElementById(\"cc4af0eb-2545-4c05-98e3-d8907d3f01b5\")) {                    Plotly.newPlot(                        \"cc4af0eb-2545-4c05-98e3-d8907d3f01b5\",                        [{\"hovertemplate\": \"<b>%{hovertext}</b><br><br>\\uc0ac\\uc5c5\\uc7a5\\uba85=\\uff08\\uc8fc\\uff09\\ube44\\ubc14\\ub9ac\\ud37c\\ube14\\ub9ac\\uce74<br>\\ub144\\ub3c4=%{x}<br>\\uc9c1\\uc6d0\\uc218=%{y}<extra></extra>\", \"hovertext\": [\"\\uff08\\uc8fc\\uff09\\ube44\\ubc14\\ub9ac\\ud37c\\ube14\\ub9ac\\uce74\", \"\\uff08\\uc8fc\\uff09\\ube44\\ubc14\\ub9ac\\ud37c\\ube14\\ub9ac\\uce74\", \"\\uff08\\uc8fc\\uff09\\ube44\\ubc14\\ub9ac\\ud37c\\ube14\\ub9ac\\uce74\", \"\\uff08\\uc8fc\\uff09\\ube44\\ubc14\\ub9ac\\ud37c\\ube14\\ub9ac\\uce74\", \"\\uff08\\uc8fc\\uff09\\ube44\\ubc14\\ub9ac\\ud37c\\ube14\\ub9ac\\uce74\"], \"legendgroup\": \"\\uff08\\uc8fc\\uff09\\ube44\\ubc14\\ub9ac\\ud37c\\ube14\\ub9ac\\uce74\", \"line\": {\"color\": \"#636efa\", \"dash\": \"solid\"}, \"mode\": \"lines\", \"name\": \"\\uff08\\uc8fc\\uff09\\ube44\\ubc14\\ub9ac\\ud37c\\ube14\\ub9ac\\uce74\", \"orientation\": \"v\", \"showlegend\": true, \"type\": \"scatter\", \"x\": [2019, 2018, 2017, 2016, 2015], \"xaxis\": \"x\", \"y\": [310, 158, 103, 60, 27], \"yaxis\": \"y\"}, {\"hovertemplate\": \"<b>%{hovertext}</b><br><br>\\uc0ac\\uc5c5\\uc7a5\\uba85=\\uc8fc\\uc2dd\\ud68c\\uc0ac\\uc3d8\\uce74<br>\\ub144\\ub3c4=%{x}<br>\\uc9c1\\uc6d0\\uc218=%{y}<extra></extra>\", \"hovertext\": [\"\\uc8fc\\uc2dd\\ud68c\\uc0ac\\uc3d8\\uce74\", \"\\uc8fc\\uc2dd\\ud68c\\uc0ac\\uc3d8\\uce74\", \"\\uc8fc\\uc2dd\\ud68c\\uc0ac\\uc3d8\\uce74\", \"\\uc8fc\\uc2dd\\ud68c\\uc0ac\\uc3d8\\uce74\", \"\\uc8fc\\uc2dd\\ud68c\\uc0ac\\uc3d8\\uce74\"], \"legendgroup\": \"\\uc8fc\\uc2dd\\ud68c\\uc0ac\\uc3d8\\uce74\", \"line\": {\"color\": \"#EF553B\", \"dash\": \"solid\"}, \"mode\": \"lines\", \"name\": \"\\uc8fc\\uc2dd\\ud68c\\uc0ac\\uc3d8\\uce74\", \"orientation\": \"v\", \"showlegend\": true, \"type\": \"scatter\", \"x\": [2019, 2018, 2017, 2016, 2015], \"xaxis\": \"x\", \"y\": [364, 281, 287, 271, 89], \"yaxis\": \"y\"}, {\"hovertemplate\": \"<b>%{hovertext}</b><br><br>\\uc0ac\\uc5c5\\uc7a5\\uba85=\\uc8fc\\uc2dd\\ud68c\\uc0ac \\ubb34\\uc2e0\\uc0ac<br>\\ub144\\ub3c4=%{x}<br>\\uc9c1\\uc6d0\\uc218=%{y}<extra></extra>\", \"hovertext\": [\"\\uc8fc\\uc2dd\\ud68c\\uc0ac \\ubb34\\uc2e0\\uc0ac\", \"\\uc8fc\\uc2dd\\ud68c\\uc0ac \\ubb34\\uc2e0\\uc0ac\", \"\\uc8fc\\uc2dd\\ud68c\\uc0ac \\ubb34\\uc2e0\\uc0ac\", \"\\uc8fc\\uc2dd\\ud68c\\uc0ac \\ubb34\\uc2e0\\uc0ac\", \"\\uc8fc\\uc2dd\\ud68c\\uc0ac \\ubb34\\uc2e0\\uc0ac\"], \"legendgroup\": \"\\uc8fc\\uc2dd\\ud68c\\uc0ac \\ubb34\\uc2e0\\uc0ac\", \"line\": {\"color\": \"#00cc96\", \"dash\": \"solid\"}, \"mode\": \"lines\", \"name\": \"\\uc8fc\\uc2dd\\ud68c\\uc0ac \\ubb34\\uc2e0\\uc0ac\", \"orientation\": \"v\", \"showlegend\": true, \"type\": \"scatter\", \"x\": [2019, 2018, 2017, 2016, 2015], \"xaxis\": \"x\", \"y\": [332, 174, 100, 84, 61], \"yaxis\": \"y\"}, {\"hovertemplate\": \"<b>%{hovertext}</b><br><br>\\uc0ac\\uc5c5\\uc7a5\\uba85=(\\uc8fc)\\ud06c\\ub798\\ud504\\ud1a4<br>\\ub144\\ub3c4=%{x}<br>\\uc9c1\\uc6d0\\uc218=%{y}<extra></extra>\", \"hovertext\": [\"(\\uc8fc)\\ud06c\\ub798\\ud504\\ud1a4\", \"(\\uc8fc)\\ud06c\\ub798\\ud504\\ud1a4\", \"(\\uc8fc)\\ud06c\\ub798\\ud504\\ud1a4\", \"(\\uc8fc)\\ud06c\\ub798\\ud504\\ud1a4\", \"(\\uc8fc)\\ud06c\\ub798\\ud504\\ud1a4\"], \"legendgroup\": \"(\\uc8fc)\\ud06c\\ub798\\ud504\\ud1a4\", \"line\": {\"color\": \"#ab63fa\", \"dash\": \"solid\"}, \"mode\": \"lines\", \"name\": \"(\\uc8fc)\\ud06c\\ub798\\ud504\\ud1a4\", \"orientation\": \"v\", \"showlegend\": true, \"type\": \"scatter\", \"x\": [2019, 2018, 2017, 2016, 2015], \"xaxis\": \"x\", \"y\": [718, 570, 404, 257, 244], \"yaxis\": \"y\"}, {\"hovertemplate\": \"<b>%{hovertext}</b><br><br>\\uc0ac\\uc5c5\\uc7a5\\uba85=(\\uc8fc)\\uc57c\\ub180\\uc790<br>\\ub144\\ub3c4=%{x}<br>\\uc9c1\\uc6d0\\uc218=%{y}<extra></extra>\", \"hovertext\": [\"(\\uc8fc)\\uc57c\\ub180\\uc790\", \"(\\uc8fc)\\uc57c\\ub180\\uc790\", \"(\\uc8fc)\\uc57c\\ub180\\uc790\", \"(\\uc8fc)\\uc57c\\ub180\\uc790\", \"(\\uc8fc)\\uc57c\\ub180\\uc790\"], \"legendgroup\": \"(\\uc8fc)\\uc57c\\ub180\\uc790\", \"line\": {\"color\": \"#FFA15A\", \"dash\": \"solid\"}, \"mode\": \"lines\", \"name\": \"(\\uc8fc)\\uc57c\\ub180\\uc790\", \"orientation\": \"v\", \"showlegend\": true, \"type\": \"scatter\", \"x\": [2019, 2018, 2017, 2016, 2015], \"xaxis\": \"x\", \"y\": [752, 414, 281, 218, 130], \"yaxis\": \"y\"}, {\"hovertemplate\": \"<b>%{hovertext}</b><br><br>\\uc0ac\\uc5c5\\uc7a5\\uba85=(\\uc8fc)\\uc5d0\\uc774\\ud504\\ub85c\\uc820<br>\\ub144\\ub3c4=%{x}<br>\\uc9c1\\uc6d0\\uc218=%{y}<extra></extra>\", \"hovertext\": [\"(\\uc8fc)\\uc5d0\\uc774\\ud504\\ub85c\\uc820\", \"(\\uc8fc)\\uc5d0\\uc774\\ud504\\ub85c\\uc820\", \"(\\uc8fc)\\uc5d0\\uc774\\ud504\\ub85c\\uc820\", \"(\\uc8fc)\\uc5d0\\uc774\\ud504\\ub85c\\uc820\", \"(\\uc8fc)\\uc5d0\\uc774\\ud504\\ub85c\\uc820\"], \"legendgroup\": \"(\\uc8fc)\\uc5d0\\uc774\\ud504\\ub85c\\uc820\", \"line\": {\"color\": \"#19d3f3\", \"dash\": \"solid\"}, \"mode\": \"lines\", \"name\": \"(\\uc8fc)\\uc5d0\\uc774\\ud504\\ub85c\\uc820\", \"orientation\": \"v\", \"showlegend\": true, \"type\": \"scatter\", \"x\": [2019, 2018, 2017, 2016, 2015], \"xaxis\": \"x\", \"y\": [178, 128, 145, 119, 85], \"yaxis\": \"y\"}, {\"hovertemplate\": \"<b>%{hovertext}</b><br><br>\\uc0ac\\uc5c5\\uc7a5\\uba85=\\uff08\\uc8fc\\uff09\\uc9c0\\ud53c\\ud074\\ub7fd<br>\\ub144\\ub3c4=%{x}<br>\\uc9c1\\uc6d0\\uc218=%{y}<extra></extra>\", \"hovertext\": [\"\\uff08\\uc8fc\\uff09\\uc9c0\\ud53c\\ud074\\ub7fd\", \"\\uff08\\uc8fc\\uff09\\uc9c0\\ud53c\\ud074\\ub7fd\", \"\\uff08\\uc8fc\\uff09\\uc9c0\\ud53c\\ud074\\ub7fd\", \"\\uff08\\uc8fc\\uff09\\uc9c0\\ud53c\\ud074\\ub7fd\", \"\\uff08\\uc8fc\\uff09\\uc9c0\\ud53c\\ud074\\ub7fd\"], \"legendgroup\": \"\\uff08\\uc8fc\\uff09\\uc9c0\\ud53c\\ud074\\ub7fd\", \"line\": {\"color\": \"#FF6692\", \"dash\": \"solid\"}, \"mode\": \"lines\", \"name\": \"\\uff08\\uc8fc\\uff09\\uc9c0\\ud53c\\ud074\\ub7fd\", \"orientation\": \"v\", \"showlegend\": true, \"type\": \"scatter\", \"x\": [2019, 2018, 2017, 2016, 2015], \"xaxis\": \"x\", \"y\": [113, 47, 12, 13, 8], \"yaxis\": \"y\"}],                        {\"autosize\": false, \"height\": 500, \"legend\": {\"title\": {\"text\": \"\\uc0ac\\uc5c5\\uc7a5\\uba85\"}, \"tracegroupgap\": 0}, \"template\": {\"data\": {\"bar\": [{\"error_x\": {\"color\": \"#2a3f5f\"}, \"error_y\": {\"color\": \"#2a3f5f\"}, \"marker\": {\"line\": {\"color\": \"#E5ECF6\", \"width\": 0.5}}, \"type\": \"bar\"}], \"barpolar\": [{\"marker\": {\"line\": {\"color\": \"#E5ECF6\", \"width\": 0.5}}, \"type\": \"barpolar\"}], \"carpet\": [{\"aaxis\": {\"endlinecolor\": \"#2a3f5f\", \"gridcolor\": \"white\", \"linecolor\": \"white\", \"minorgridcolor\": \"white\", \"startlinecolor\": \"#2a3f5f\"}, \"baxis\": {\"endlinecolor\": \"#2a3f5f\", \"gridcolor\": \"white\", \"linecolor\": \"white\", \"minorgridcolor\": \"white\", \"startlinecolor\": \"#2a3f5f\"}, \"type\": \"carpet\"}], \"choropleth\": [{\"colorbar\": {\"outlinewidth\": 0, \"ticks\": \"\"}, \"type\": \"choropleth\"}], \"contour\": [{\"colorbar\": {\"outlinewidth\": 0, \"ticks\": \"\"}, \"colorscale\": [[0.0, \"#0d0887\"], [0.1111111111111111, \"#46039f\"], [0.2222222222222222, \"#7201a8\"], [0.3333333333333333, \"#9c179e\"], [0.4444444444444444, \"#bd3786\"], [0.5555555555555556, \"#d8576b\"], [0.6666666666666666, \"#ed7953\"], [0.7777777777777778, \"#fb9f3a\"], [0.8888888888888888, \"#fdca26\"], [1.0, \"#f0f921\"]], \"type\": \"contour\"}], \"contourcarpet\": [{\"colorbar\": {\"outlinewidth\": 0, \"ticks\": \"\"}, \"type\": \"contourcarpet\"}], \"heatmap\": [{\"colorbar\": {\"outlinewidth\": 0, \"ticks\": \"\"}, \"colorscale\": [[0.0, \"#0d0887\"], [0.1111111111111111, \"#46039f\"], [0.2222222222222222, \"#7201a8\"], [0.3333333333333333, \"#9c179e\"], [0.4444444444444444, \"#bd3786\"], [0.5555555555555556, \"#d8576b\"], [0.6666666666666666, \"#ed7953\"], [0.7777777777777778, \"#fb9f3a\"], [0.8888888888888888, \"#fdca26\"], [1.0, \"#f0f921\"]], \"type\": \"heatmap\"}], \"heatmapgl\": [{\"colorbar\": {\"outlinewidth\": 0, \"ticks\": \"\"}, \"colorscale\": [[0.0, \"#0d0887\"], [0.1111111111111111, \"#46039f\"], [0.2222222222222222, \"#7201a8\"], [0.3333333333333333, \"#9c179e\"], [0.4444444444444444, \"#bd3786\"], [0.5555555555555556, \"#d8576b\"], [0.6666666666666666, \"#ed7953\"], [0.7777777777777778, \"#fb9f3a\"], [0.8888888888888888, \"#fdca26\"], [1.0, \"#f0f921\"]], \"type\": \"heatmapgl\"}], \"histogram\": [{\"marker\": {\"colorbar\": {\"outlinewidth\": 0, \"ticks\": \"\"}}, \"type\": \"histogram\"}], \"histogram2d\": [{\"colorbar\": {\"outlinewidth\": 0, \"ticks\": \"\"}, \"colorscale\": [[0.0, \"#0d0887\"], [0.1111111111111111, \"#46039f\"], [0.2222222222222222, \"#7201a8\"], [0.3333333333333333, \"#9c179e\"], [0.4444444444444444, \"#bd3786\"], [0.5555555555555556, \"#d8576b\"], [0.6666666666666666, \"#ed7953\"], [0.7777777777777778, \"#fb9f3a\"], [0.8888888888888888, \"#fdca26\"], [1.0, \"#f0f921\"]], \"type\": \"histogram2d\"}], \"histogram2dcontour\": [{\"colorbar\": {\"outlinewidth\": 0, \"ticks\": \"\"}, \"colorscale\": [[0.0, \"#0d0887\"], [0.1111111111111111, \"#46039f\"], [0.2222222222222222, \"#7201a8\"], [0.3333333333333333, \"#9c179e\"], [0.4444444444444444, \"#bd3786\"], [0.5555555555555556, \"#d8576b\"], [0.6666666666666666, \"#ed7953\"], [0.7777777777777778, \"#fb9f3a\"], [0.8888888888888888, \"#fdca26\"], [1.0, \"#f0f921\"]], \"type\": \"histogram2dcontour\"}], \"mesh3d\": [{\"colorbar\": {\"outlinewidth\": 0, \"ticks\": \"\"}, \"type\": \"mesh3d\"}], \"parcoords\": [{\"line\": {\"colorbar\": {\"outlinewidth\": 0, \"ticks\": \"\"}}, \"type\": \"parcoords\"}], \"pie\": [{\"automargin\": true, \"type\": \"pie\"}], \"scatter\": [{\"marker\": {\"colorbar\": {\"outlinewidth\": 0, \"ticks\": \"\"}}, \"type\": \"scatter\"}], \"scatter3d\": [{\"line\": {\"colorbar\": {\"outlinewidth\": 0, \"ticks\": \"\"}}, \"marker\": {\"colorbar\": {\"outlinewidth\": 0, \"ticks\": \"\"}}, \"type\": \"scatter3d\"}], \"scattercarpet\": [{\"marker\": {\"colorbar\": {\"outlinewidth\": 0, \"ticks\": \"\"}}, \"type\": \"scattercarpet\"}], \"scattergeo\": [{\"marker\": {\"colorbar\": {\"outlinewidth\": 0, \"ticks\": \"\"}}, \"type\": \"scattergeo\"}], \"scattergl\": [{\"marker\": {\"colorbar\": {\"outlinewidth\": 0, \"ticks\": \"\"}}, \"type\": \"scattergl\"}], \"scattermapbox\": [{\"marker\": {\"colorbar\": {\"outlinewidth\": 0, \"ticks\": \"\"}}, \"type\": \"scattermapbox\"}], \"scatterpolar\": [{\"marker\": {\"colorbar\": {\"outlinewidth\": 0, \"ticks\": \"\"}}, \"type\": \"scatterpolar\"}], \"scatterpolargl\": [{\"marker\": {\"colorbar\": {\"outlinewidth\": 0, \"ticks\": \"\"}}, \"type\": \"scatterpolargl\"}], \"scatterternary\": [{\"marker\": {\"colorbar\": {\"outlinewidth\": 0, \"ticks\": \"\"}}, \"type\": \"scatterternary\"}], \"surface\": [{\"colorbar\": {\"outlinewidth\": 0, \"ticks\": \"\"}, \"colorscale\": [[0.0, \"#0d0887\"], [0.1111111111111111, \"#46039f\"], [0.2222222222222222, \"#7201a8\"], [0.3333333333333333, \"#9c179e\"], [0.4444444444444444, \"#bd3786\"], [0.5555555555555556, \"#d8576b\"], [0.6666666666666666, \"#ed7953\"], [0.7777777777777778, \"#fb9f3a\"], [0.8888888888888888, \"#fdca26\"], [1.0, \"#f0f921\"]], \"type\": \"surface\"}], \"table\": [{\"cells\": {\"fill\": {\"color\": \"#EBF0F8\"}, \"line\": {\"color\": \"white\"}}, \"header\": {\"fill\": {\"color\": \"#C8D4E3\"}, \"line\": {\"color\": \"white\"}}, \"type\": \"table\"}]}, \"layout\": {\"annotationdefaults\": {\"arrowcolor\": \"#2a3f5f\", \"arrowhead\": 0, \"arrowwidth\": 1}, \"autotypenumbers\": \"strict\", \"coloraxis\": {\"colorbar\": {\"outlinewidth\": 0, \"ticks\": \"\"}}, \"colorscale\": {\"diverging\": [[0, \"#8e0152\"], [0.1, \"#c51b7d\"], [0.2, \"#de77ae\"], [0.3, \"#f1b6da\"], [0.4, \"#fde0ef\"], [0.5, \"#f7f7f7\"], [0.6, \"#e6f5d0\"], [0.7, \"#b8e186\"], [0.8, \"#7fbc41\"], [0.9, \"#4d9221\"], [1, \"#276419\"]], \"sequential\": [[0.0, \"#0d0887\"], [0.1111111111111111, \"#46039f\"], [0.2222222222222222, \"#7201a8\"], [0.3333333333333333, \"#9c179e\"], [0.4444444444444444, \"#bd3786\"], [0.5555555555555556, \"#d8576b\"], [0.6666666666666666, \"#ed7953\"], [0.7777777777777778, \"#fb9f3a\"], [0.8888888888888888, \"#fdca26\"], [1.0, \"#f0f921\"]], \"sequentialminus\": [[0.0, \"#0d0887\"], [0.1111111111111111, \"#46039f\"], [0.2222222222222222, \"#7201a8\"], [0.3333333333333333, \"#9c179e\"], [0.4444444444444444, \"#bd3786\"], [0.5555555555555556, \"#d8576b\"], [0.6666666666666666, \"#ed7953\"], [0.7777777777777778, \"#fb9f3a\"], [0.8888888888888888, \"#fdca26\"], [1.0, \"#f0f921\"]]}, \"colorway\": [\"#636efa\", \"#EF553B\", \"#00cc96\", \"#ab63fa\", \"#FFA15A\", \"#19d3f3\", \"#FF6692\", \"#B6E880\", \"#FF97FF\", \"#FECB52\"], \"font\": {\"color\": \"#2a3f5f\"}, \"geo\": {\"bgcolor\": \"white\", \"lakecolor\": \"white\", \"landcolor\": \"#E5ECF6\", \"showlakes\": true, \"showland\": true, \"subunitcolor\": \"white\"}, \"hoverlabel\": {\"align\": \"left\"}, \"hovermode\": \"closest\", \"mapbox\": {\"style\": \"light\"}, \"paper_bgcolor\": \"white\", \"plot_bgcolor\": \"#E5ECF6\", \"polar\": {\"angularaxis\": {\"gridcolor\": \"white\", \"linecolor\": \"white\", \"ticks\": \"\"}, \"bgcolor\": \"#E5ECF6\", \"radialaxis\": {\"gridcolor\": \"white\", \"linecolor\": \"white\", \"ticks\": \"\"}}, \"scene\": {\"xaxis\": {\"backgroundcolor\": \"#E5ECF6\", \"gridcolor\": \"white\", \"gridwidth\": 2, \"linecolor\": \"white\", \"showbackground\": true, \"ticks\": \"\", \"zerolinecolor\": \"white\"}, \"yaxis\": {\"backgroundcolor\": \"#E5ECF6\", \"gridcolor\": \"white\", \"gridwidth\": 2, \"linecolor\": \"white\", \"showbackground\": true, \"ticks\": \"\", \"zerolinecolor\": \"white\"}, \"zaxis\": {\"backgroundcolor\": \"#E5ECF6\", \"gridcolor\": \"white\", \"gridwidth\": 2, \"linecolor\": \"white\", \"showbackground\": true, \"ticks\": \"\", \"zerolinecolor\": \"white\"}}, \"shapedefaults\": {\"line\": {\"color\": \"#2a3f5f\"}}, \"ternary\": {\"aaxis\": {\"gridcolor\": \"white\", \"linecolor\": \"white\", \"ticks\": \"\"}, \"baxis\": {\"gridcolor\": \"white\", \"linecolor\": \"white\", \"ticks\": \"\"}, \"bgcolor\": \"#E5ECF6\", \"caxis\": {\"gridcolor\": \"white\", \"linecolor\": \"white\", \"ticks\": \"\"}}, \"title\": {\"x\": 0.05}, \"xaxis\": {\"automargin\": true, \"gridcolor\": \"white\", \"linecolor\": \"white\", \"ticks\": \"\", \"title\": {\"standoff\": 15}, \"zerolinecolor\": \"white\", \"zerolinewidth\": 2}, \"yaxis\": {\"automargin\": true, \"gridcolor\": \"white\", \"linecolor\": \"white\", \"ticks\": \"\", \"title\": {\"standoff\": 15}, \"zerolinecolor\": \"white\", \"zerolinewidth\": 2}}}, \"title\": {\"text\": \"\\uc720\\ub2c8\\ucf58 \\uae30\\uc5c5 \\uc5f0\\ub3c4\\ubcc4 \\uad6d\\ubbfc\\uc5f0\\uae08 \\uac00\\uc785\\uc790 \\uc218\"}, \"width\": 600, \"xaxis\": {\"anchor\": \"y\", \"domain\": [0.0, 1.0], \"title\": {\"text\": \"\\ub144\\ub3c4\"}}, \"yaxis\": {\"anchor\": \"x\", \"domain\": [0.0, 1.0], \"title\": {\"text\": \"\\uc9c1\\uc6d0\\uc218\"}}},                        {\"responsive\": true}                    ).then(function(){\n",
       "                            \n",
       "var gd = document.getElementById('cc4af0eb-2545-4c05-98e3-d8907d3f01b5');\n",
       "var x = new MutationObserver(function (mutations, observer) {{\n",
       "        var display = window.getComputedStyle(gd).display;\n",
       "        if (!display || display === 'none') {{\n",
       "            console.log([gd, 'removed!']);\n",
       "            Plotly.purge(gd);\n",
       "            observer.disconnect();\n",
       "        }}\n",
       "}});\n",
       "\n",
       "// Listen for the removal of the full notebook cells\n",
       "var notebookContainer = gd.closest('#notebook-container');\n",
       "if (notebookContainer) {{\n",
       "    x.observe(notebookContainer, {childList: true});\n",
       "}}\n",
       "\n",
       "// Listen for the clearing of the current output cell\n",
       "var outputEl = gd.closest('.output');\n",
       "if (outputEl) {{\n",
       "    x.observe(outputEl, {childList: true});\n",
       "}}\n",
       "\n",
       "                        })                };                });            </script>        </div>"
      ]
     },
     "metadata": {},
     "output_type": "display_data"
    }
   ],
   "source": [
    "# plotly\n",
    "fig = px.line(df_unicorn, x=\"년도\", y=\"직원수\", \n",
    "             title='유니콘 기업 연도별 국민연금 가입자 수',\n",
    "             color='사업장명',\n",
    "             line_group='사업장명',\n",
    "             hover_name='사업장명')\n",
    "fig.update_layout(\n",
    "    autosize=False,\n",
    "    width=600,\n",
    "    height=500)\n",
    "\n",
    "fig.show()"
   ]
  },
  {
   "cell_type": "code",
   "execution_count": 15,
   "metadata": {
    "hidden": true,
    "scrolled": true
   },
   "outputs": [
    {
     "data": {
      "text/html": [
       "<div>\n",
       "<style scoped>\n",
       "    .dataframe tbody tr th:only-of-type {\n",
       "        vertical-align: middle;\n",
       "    }\n",
       "\n",
       "    .dataframe tbody tr th {\n",
       "        vertical-align: top;\n",
       "    }\n",
       "\n",
       "    .dataframe thead th {\n",
       "        text-align: right;\n",
       "    }\n",
       "</style>\n",
       "<table border=\"1\" class=\"dataframe\">\n",
       "  <thead>\n",
       "    <tr style=\"text-align: right;\">\n",
       "      <th></th>\n",
       "      <th>Unnamed: 0</th>\n",
       "      <th>사업장명</th>\n",
       "      <th>업종</th>\n",
       "      <th>적용일자</th>\n",
       "      <th>직원수</th>\n",
       "      <th>연금보험료</th>\n",
       "      <th>신규취득자수</th>\n",
       "      <th>상실가입자수</th>\n",
       "      <th>년도</th>\n",
       "      <th>성장율_직원수</th>\n",
       "      <th>기간내성장율_직원수</th>\n",
       "      <th>연평균성장율_직원수</th>\n",
       "      <th>valuation</th>\n",
       "    </tr>\n",
       "  </thead>\n",
       "  <tbody>\n",
       "    <tr>\n",
       "      <th>0</th>\n",
       "      <td>0</td>\n",
       "      <td>（주）비바리퍼블리카</td>\n",
       "      <td>응용 소프트웨어 개발 및 공급업</td>\n",
       "      <td>2013-08-01</td>\n",
       "      <td>310</td>\n",
       "      <td>118457320</td>\n",
       "      <td>18</td>\n",
       "      <td>12</td>\n",
       "      <td>2019</td>\n",
       "      <td>0.96</td>\n",
       "      <td>10.48</td>\n",
       "      <td>0.69</td>\n",
       "      <td>2.60</td>\n",
       "    </tr>\n",
       "  </tbody>\n",
       "</table>\n",
       "</div>"
      ],
      "text/plain": [
       "   Unnamed: 0        사업장명                 업종        적용일자  직원수      연금보험료  \\\n",
       "0           0  （주）비바리퍼블리카  응용 소프트웨어 개발 및 공급업  2013-08-01  310  118457320   \n",
       "\n",
       "   신규취득자수  상실가입자수    년도  성장율_직원수  기간내성장율_직원수  연평균성장율_직원수  valuation  \n",
       "0      18      12  2019     0.96       10.48        0.69       2.60  "
      ]
     },
     "execution_count": 15,
     "metadata": {},
     "output_type": "execute_result"
    }
   ],
   "source": [
    "# 유니콘 기업별 직원수 연성장율 기업가치 파악\n",
    "df_unicorn_change = pd.DataFrame(df_unicorn.sort_values(['사업장명','년도']).groupby('사업장명')['직원수'].pct_change(periods=1)).rename(columns={'직원수':'성장율_직원수'}).fillna(0)\n",
    "df_unicorn_change_total = pd.DataFrame(df_unicorn.sort_values(['사업장명','년도']).groupby('사업장명')['직원수'].pct_change(periods=4)).rename(columns={'직원수':'기간내성장율_직원수'}).fillna(0)\n",
    "\n",
    "df_unicorn = df_unicorn.merge(df_unicorn_change,how='left', right_index=True,left_index=True)\n",
    "df_unicorn = df_unicorn.merge(df_unicorn_change_total, how='left', right_index=True,left_index=True)\n",
    "\n",
    "df_unicorn_growth = df_unicorn.groupby('사업장명').agg({'성장율_직원수':'mean'}).rename(columns={'성장율_직원수':'연평균성장율_직원수'})\n",
    "\n",
    "# valuation 정보 추가\n",
    "# valuation 정보는 유니콘 기업 선정시 공개자료 활용\n",
    "df_unicorn_growth['valuation']=list((1,1.04,5,2.2,1,2.6,1.32))\n",
    "\n",
    "# 유니콘 기업정보 최종 (직원수 - 성장율, 기간내성장율, 연평균성장율, valuation)\n",
    "df_unicorn = df_unicorn.merge(df_unicorn_growth, on='사업장명', how='left')\n",
    "df_unicorn.head(1)"
   ]
  },
  {
   "cell_type": "code",
   "execution_count": 52,
   "metadata": {
    "hidden": true,
    "scrolled": false
   },
   "outputs": [],
   "source": [
    "#df_unicorn[df_unicorn['년도']==2019].filter(regex='직원수|valuation|연금보험료').corr()['valuation']"
   ]
  },
  {
   "cell_type": "code",
   "execution_count": 72,
   "metadata": {
    "hidden": true,
    "scrolled": false
   },
   "outputs": [
    {
     "data": {
      "text/html": [
       "<div>\n",
       "<style scoped>\n",
       "    .dataframe tbody tr th:only-of-type {\n",
       "        vertical-align: middle;\n",
       "    }\n",
       "\n",
       "    .dataframe tbody tr th {\n",
       "        vertical-align: top;\n",
       "    }\n",
       "\n",
       "    .dataframe thead th {\n",
       "        text-align: right;\n",
       "    }\n",
       "</style>\n",
       "<table border=\"1\" class=\"dataframe\">\n",
       "  <thead>\n",
       "    <tr style=\"text-align: right;\">\n",
       "      <th></th>\n",
       "      <th>직원수</th>\n",
       "      <th>연금보험료</th>\n",
       "      <th>valuation</th>\n",
       "    </tr>\n",
       "  </thead>\n",
       "  <tbody>\n",
       "    <tr>\n",
       "      <th>직원수</th>\n",
       "      <td>1.00</td>\n",
       "      <td>0.98</td>\n",
       "      <td>0.36</td>\n",
       "    </tr>\n",
       "    <tr>\n",
       "      <th>연금보험료</th>\n",
       "      <td>0.98</td>\n",
       "      <td>1.00</td>\n",
       "      <td>0.44</td>\n",
       "    </tr>\n",
       "    <tr>\n",
       "      <th>valuation</th>\n",
       "      <td>0.36</td>\n",
       "      <td>0.44</td>\n",
       "      <td>1.00</td>\n",
       "    </tr>\n",
       "  </tbody>\n",
       "</table>\n",
       "</div>"
      ],
      "text/plain": [
       "           직원수  연금보험료  valuation\n",
       "직원수       1.00   0.98       0.36\n",
       "연금보험료     0.98   1.00       0.44\n",
       "valuation 0.36   0.44       1.00"
      ]
     },
     "execution_count": 72,
     "metadata": {},
     "output_type": "execute_result"
    }
   ],
   "source": [
    "df_unicorn.filter(regex='^직원수|연금보험료|valuation').corr()"
   ]
  },
  {
   "cell_type": "code",
   "execution_count": 20,
   "metadata": {
    "hidden": true,
    "scrolled": true
   },
   "outputs": [
    {
     "data": {
      "text/html": [
       "<div>\n",
       "<style scoped>\n",
       "    .dataframe tbody tr th:only-of-type {\n",
       "        vertical-align: middle;\n",
       "    }\n",
       "\n",
       "    .dataframe tbody tr th {\n",
       "        vertical-align: top;\n",
       "    }\n",
       "\n",
       "    .dataframe thead th {\n",
       "        text-align: right;\n",
       "    }\n",
       "</style>\n",
       "<table border=\"1\" class=\"dataframe\">\n",
       "  <thead>\n",
       "    <tr style=\"text-align: right;\">\n",
       "      <th></th>\n",
       "      <th>사업장명</th>\n",
       "      <th>업종</th>\n",
       "      <th>적용일자</th>\n",
       "      <th>직원수</th>\n",
       "      <th>연금보험료</th>\n",
       "      <th>신규취득자수</th>\n",
       "      <th>상실가입자수</th>\n",
       "      <th>년도</th>\n",
       "      <th>성장율_직원수</th>\n",
       "      <th>기간내성장율_직원수</th>\n",
       "      <th>연평균성장율_직원수</th>\n",
       "      <th>valuation</th>\n",
       "    </tr>\n",
       "  </thead>\n",
       "  <tbody>\n",
       "    <tr>\n",
       "      <th>0</th>\n",
       "      <td>（주）비바리퍼블리카</td>\n",
       "      <td>응용 소프트웨어 개발 및 공급업</td>\n",
       "      <td>2013-08-01</td>\n",
       "      <td>310</td>\n",
       "      <td>118457320</td>\n",
       "      <td>18</td>\n",
       "      <td>12</td>\n",
       "      <td>2019</td>\n",
       "      <td>0.96</td>\n",
       "      <td>10.48</td>\n",
       "      <td>0.69</td>\n",
       "      <td>2.60</td>\n",
       "    </tr>\n",
       "    <tr>\n",
       "      <th>1</th>\n",
       "      <td>（주）비바리퍼블리카</td>\n",
       "      <td>응용 소프트웨어 개발 및 공급업</td>\n",
       "      <td>2013-08-01</td>\n",
       "      <td>158</td>\n",
       "      <td>57709520</td>\n",
       "      <td>5</td>\n",
       "      <td>3</td>\n",
       "      <td>2018</td>\n",
       "      <td>0.53</td>\n",
       "      <td>0.00</td>\n",
       "      <td>0.69</td>\n",
       "      <td>2.60</td>\n",
       "    </tr>\n",
       "    <tr>\n",
       "      <th>2</th>\n",
       "      <td>（주）비바리퍼블리카</td>\n",
       "      <td>응용 소프트웨어 개발 및 공급업</td>\n",
       "      <td>2013-08-01</td>\n",
       "      <td>103</td>\n",
       "      <td>34070000</td>\n",
       "      <td>5</td>\n",
       "      <td>2</td>\n",
       "      <td>2017</td>\n",
       "      <td>0.72</td>\n",
       "      <td>0.00</td>\n",
       "      <td>0.69</td>\n",
       "      <td>2.60</td>\n",
       "    </tr>\n",
       "    <tr>\n",
       "      <th>3</th>\n",
       "      <td>（주）비바리퍼블리카</td>\n",
       "      <td>응용 소프트웨어 개발 및 공급업</td>\n",
       "      <td>2013-08-01</td>\n",
       "      <td>60</td>\n",
       "      <td>17035140</td>\n",
       "      <td>5</td>\n",
       "      <td>3</td>\n",
       "      <td>2016</td>\n",
       "      <td>1.22</td>\n",
       "      <td>0.00</td>\n",
       "      <td>0.69</td>\n",
       "      <td>2.60</td>\n",
       "    </tr>\n",
       "    <tr>\n",
       "      <th>4</th>\n",
       "      <td>（주）비바리퍼블리카</td>\n",
       "      <td>응용 소프트웨어 개발 및 공급업</td>\n",
       "      <td>2013-08-01</td>\n",
       "      <td>27</td>\n",
       "      <td>6171340</td>\n",
       "      <td>0</td>\n",
       "      <td>2</td>\n",
       "      <td>2015</td>\n",
       "      <td>0.00</td>\n",
       "      <td>0.00</td>\n",
       "      <td>0.69</td>\n",
       "      <td>2.60</td>\n",
       "    </tr>\n",
       "    <tr>\n",
       "      <th>5</th>\n",
       "      <td>주식회사쏘카</td>\n",
       "      <td>자동차 임대업(렌트카)</td>\n",
       "      <td>2011-12-13</td>\n",
       "      <td>364</td>\n",
       "      <td>99589840</td>\n",
       "      <td>7</td>\n",
       "      <td>5</td>\n",
       "      <td>2019</td>\n",
       "      <td>0.30</td>\n",
       "      <td>3.09</td>\n",
       "      <td>0.48</td>\n",
       "      <td>1.00</td>\n",
       "    </tr>\n",
       "    <tr>\n",
       "      <th>6</th>\n",
       "      <td>주식회사쏘카</td>\n",
       "      <td>자동차 임대업(렌트카)</td>\n",
       "      <td>2011-12-13</td>\n",
       "      <td>281</td>\n",
       "      <td>66470520</td>\n",
       "      <td>16</td>\n",
       "      <td>12</td>\n",
       "      <td>2018</td>\n",
       "      <td>-0.02</td>\n",
       "      <td>0.00</td>\n",
       "      <td>0.48</td>\n",
       "      <td>1.00</td>\n",
       "    </tr>\n",
       "    <tr>\n",
       "      <th>7</th>\n",
       "      <td>주식회사쏘카</td>\n",
       "      <td>자동차 임대업(렌트카)</td>\n",
       "      <td>2011-12-13</td>\n",
       "      <td>287</td>\n",
       "      <td>53342760</td>\n",
       "      <td>8</td>\n",
       "      <td>10</td>\n",
       "      <td>2017</td>\n",
       "      <td>0.06</td>\n",
       "      <td>0.00</td>\n",
       "      <td>0.48</td>\n",
       "      <td>1.00</td>\n",
       "    </tr>\n",
       "    <tr>\n",
       "      <th>8</th>\n",
       "      <td>주식회사쏘카</td>\n",
       "      <td>자동차 임대업(렌트카)</td>\n",
       "      <td>2011-12-13</td>\n",
       "      <td>271</td>\n",
       "      <td>49231800</td>\n",
       "      <td>27</td>\n",
       "      <td>11</td>\n",
       "      <td>2016</td>\n",
       "      <td>2.04</td>\n",
       "      <td>0.00</td>\n",
       "      <td>0.48</td>\n",
       "      <td>1.00</td>\n",
       "    </tr>\n",
       "    <tr>\n",
       "      <th>9</th>\n",
       "      <td>주식회사쏘카</td>\n",
       "      <td>자동차 임대업(렌트카)</td>\n",
       "      <td>2011-12-13</td>\n",
       "      <td>89</td>\n",
       "      <td>18339080</td>\n",
       "      <td>10</td>\n",
       "      <td>4</td>\n",
       "      <td>2015</td>\n",
       "      <td>0.00</td>\n",
       "      <td>0.00</td>\n",
       "      <td>0.48</td>\n",
       "      <td>1.00</td>\n",
       "    </tr>\n",
       "    <tr>\n",
       "      <th>10</th>\n",
       "      <td>주식회사 무신사</td>\n",
       "      <td>응용 소프트웨어 개발 및 공급업</td>\n",
       "      <td>2012-07-01</td>\n",
       "      <td>332</td>\n",
       "      <td>90698840</td>\n",
       "      <td>12</td>\n",
       "      <td>5</td>\n",
       "      <td>2019</td>\n",
       "      <td>0.91</td>\n",
       "      <td>4.44</td>\n",
       "      <td>0.44</td>\n",
       "      <td>2.20</td>\n",
       "    </tr>\n",
       "    <tr>\n",
       "      <th>11</th>\n",
       "      <td>주식회사 무신사</td>\n",
       "      <td>응용 소프트웨어 개발 및 공급업</td>\n",
       "      <td>2012-07-01</td>\n",
       "      <td>174</td>\n",
       "      <td>41011340</td>\n",
       "      <td>12</td>\n",
       "      <td>3</td>\n",
       "      <td>2018</td>\n",
       "      <td>0.74</td>\n",
       "      <td>0.00</td>\n",
       "      <td>0.44</td>\n",
       "      <td>2.20</td>\n",
       "    </tr>\n",
       "    <tr>\n",
       "      <th>12</th>\n",
       "      <td>주식회사 무신사</td>\n",
       "      <td>응용 소프트웨어 개발 및 공급업</td>\n",
       "      <td>2012-07-01</td>\n",
       "      <td>100</td>\n",
       "      <td>22063880</td>\n",
       "      <td>2</td>\n",
       "      <td>0</td>\n",
       "      <td>2017</td>\n",
       "      <td>0.19</td>\n",
       "      <td>0.00</td>\n",
       "      <td>0.44</td>\n",
       "      <td>2.20</td>\n",
       "    </tr>\n",
       "    <tr>\n",
       "      <th>13</th>\n",
       "      <td>주식회사 무신사</td>\n",
       "      <td>응용 소프트웨어 개발 및 공급업</td>\n",
       "      <td>2012-07-01</td>\n",
       "      <td>84</td>\n",
       "      <td>16270180</td>\n",
       "      <td>5</td>\n",
       "      <td>2</td>\n",
       "      <td>2016</td>\n",
       "      <td>0.38</td>\n",
       "      <td>0.00</td>\n",
       "      <td>0.44</td>\n",
       "      <td>2.20</td>\n",
       "    </tr>\n",
       "    <tr>\n",
       "      <th>14</th>\n",
       "      <td>주식회사 무신사</td>\n",
       "      <td>응용 소프트웨어 개발 및 공급업</td>\n",
       "      <td>2012-07-01</td>\n",
       "      <td>61</td>\n",
       "      <td>11108000</td>\n",
       "      <td>0</td>\n",
       "      <td>0</td>\n",
       "      <td>2015</td>\n",
       "      <td>0.00</td>\n",
       "      <td>0.00</td>\n",
       "      <td>0.44</td>\n",
       "      <td>2.20</td>\n",
       "    </tr>\n",
       "    <tr>\n",
       "      <th>15</th>\n",
       "      <td>(주)크래프톤</td>\n",
       "      <td>응용 소프트웨어 개발 및 공급업</td>\n",
       "      <td>2007-03-28</td>\n",
       "      <td>718</td>\n",
       "      <td>261583980</td>\n",
       "      <td>15</td>\n",
       "      <td>10</td>\n",
       "      <td>2019</td>\n",
       "      <td>0.26</td>\n",
       "      <td>1.94</td>\n",
       "      <td>0.26</td>\n",
       "      <td>5.00</td>\n",
       "    </tr>\n",
       "    <tr>\n",
       "      <th>16</th>\n",
       "      <td>(주)크래프톤</td>\n",
       "      <td>응용 소프트웨어 개발 및 공급업</td>\n",
       "      <td>2007-03-28</td>\n",
       "      <td>570</td>\n",
       "      <td>183057500</td>\n",
       "      <td>23</td>\n",
       "      <td>7</td>\n",
       "      <td>2018</td>\n",
       "      <td>0.41</td>\n",
       "      <td>0.00</td>\n",
       "      <td>0.26</td>\n",
       "      <td>5.00</td>\n",
       "    </tr>\n",
       "    <tr>\n",
       "      <th>17</th>\n",
       "      <td>(주)크래프톤</td>\n",
       "      <td>응용 소프트웨어 개발 및 공급업</td>\n",
       "      <td>2007-03-28</td>\n",
       "      <td>404</td>\n",
       "      <td>121350180</td>\n",
       "      <td>22</td>\n",
       "      <td>7</td>\n",
       "      <td>2017</td>\n",
       "      <td>0.57</td>\n",
       "      <td>0.00</td>\n",
       "      <td>0.26</td>\n",
       "      <td>5.00</td>\n",
       "    </tr>\n",
       "    <tr>\n",
       "      <th>18</th>\n",
       "      <td>(주)크래프톤</td>\n",
       "      <td>응용 소프트웨어 개발 및 공급업</td>\n",
       "      <td>2007-03-28</td>\n",
       "      <td>257</td>\n",
       "      <td>71320080</td>\n",
       "      <td>9</td>\n",
       "      <td>1</td>\n",
       "      <td>2016</td>\n",
       "      <td>0.05</td>\n",
       "      <td>0.00</td>\n",
       "      <td>0.26</td>\n",
       "      <td>5.00</td>\n",
       "    </tr>\n",
       "    <tr>\n",
       "      <th>19</th>\n",
       "      <td>(주)크래프톤</td>\n",
       "      <td>응용 소프트웨어 개발 및 공급업</td>\n",
       "      <td>2007-03-28</td>\n",
       "      <td>244</td>\n",
       "      <td>68539320</td>\n",
       "      <td>6</td>\n",
       "      <td>2</td>\n",
       "      <td>2015</td>\n",
       "      <td>0.00</td>\n",
       "      <td>0.00</td>\n",
       "      <td>0.26</td>\n",
       "      <td>5.00</td>\n",
       "    </tr>\n",
       "    <tr>\n",
       "      <th>20</th>\n",
       "      <td>(주)야놀자</td>\n",
       "      <td>전자상거래 소매업</td>\n",
       "      <td>2007-02-01</td>\n",
       "      <td>752</td>\n",
       "      <td>239361520</td>\n",
       "      <td>64</td>\n",
       "      <td>20</td>\n",
       "      <td>2019</td>\n",
       "      <td>0.82</td>\n",
       "      <td>4.78</td>\n",
       "      <td>0.45</td>\n",
       "      <td>1.00</td>\n",
       "    </tr>\n",
       "    <tr>\n",
       "      <th>21</th>\n",
       "      <td>(주)야놀자</td>\n",
       "      <td>전자상거래 소매업</td>\n",
       "      <td>2007-02-01</td>\n",
       "      <td>414</td>\n",
       "      <td>117630180</td>\n",
       "      <td>67</td>\n",
       "      <td>17</td>\n",
       "      <td>2018</td>\n",
       "      <td>0.47</td>\n",
       "      <td>0.00</td>\n",
       "      <td>0.45</td>\n",
       "      <td>1.00</td>\n",
       "    </tr>\n",
       "    <tr>\n",
       "      <th>22</th>\n",
       "      <td>(주)야놀자</td>\n",
       "      <td>전자상거래 소매업</td>\n",
       "      <td>2007-02-01</td>\n",
       "      <td>281</td>\n",
       "      <td>71755460</td>\n",
       "      <td>12</td>\n",
       "      <td>7</td>\n",
       "      <td>2017</td>\n",
       "      <td>0.29</td>\n",
       "      <td>0.00</td>\n",
       "      <td>0.45</td>\n",
       "      <td>1.00</td>\n",
       "    </tr>\n",
       "    <tr>\n",
       "      <th>23</th>\n",
       "      <td>(주)야놀자</td>\n",
       "      <td>전자상거래 소매업</td>\n",
       "      <td>2007-02-01</td>\n",
       "      <td>218</td>\n",
       "      <td>51018680</td>\n",
       "      <td>15</td>\n",
       "      <td>8</td>\n",
       "      <td>2016</td>\n",
       "      <td>0.68</td>\n",
       "      <td>0.00</td>\n",
       "      <td>0.45</td>\n",
       "      <td>1.00</td>\n",
       "    </tr>\n",
       "    <tr>\n",
       "      <th>24</th>\n",
       "      <td>(주)야놀자</td>\n",
       "      <td>전자상거래 소매업</td>\n",
       "      <td>2007-02-01</td>\n",
       "      <td>130</td>\n",
       "      <td>29811500</td>\n",
       "      <td>19</td>\n",
       "      <td>1</td>\n",
       "      <td>2015</td>\n",
       "      <td>0.00</td>\n",
       "      <td>0.00</td>\n",
       "      <td>0.45</td>\n",
       "      <td>1.00</td>\n",
       "    </tr>\n",
       "    <tr>\n",
       "      <th>25</th>\n",
       "      <td>(주)에이프로젠</td>\n",
       "      <td>석탄화학계 화합물 및 기타 기초 유기화학 물질제조업</td>\n",
       "      <td>2000-04-04</td>\n",
       "      <td>178</td>\n",
       "      <td>41639000</td>\n",
       "      <td>8</td>\n",
       "      <td>1</td>\n",
       "      <td>2019</td>\n",
       "      <td>0.39</td>\n",
       "      <td>1.09</td>\n",
       "      <td>0.18</td>\n",
       "      <td>1.04</td>\n",
       "    </tr>\n",
       "    <tr>\n",
       "      <th>26</th>\n",
       "      <td>(주)에이프로젠</td>\n",
       "      <td>석탄화학계 화합물 및 기타 기초 유기화학 물질제조업</td>\n",
       "      <td>2000-04-04</td>\n",
       "      <td>128</td>\n",
       "      <td>30339500</td>\n",
       "      <td>1</td>\n",
       "      <td>3</td>\n",
       "      <td>2018</td>\n",
       "      <td>-0.12</td>\n",
       "      <td>0.00</td>\n",
       "      <td>0.18</td>\n",
       "      <td>1.04</td>\n",
       "    </tr>\n",
       "    <tr>\n",
       "      <th>27</th>\n",
       "      <td>(주)에이프로젠</td>\n",
       "      <td>석탄화학계 화합물 및 기타 기초 유기화학 물질제조업</td>\n",
       "      <td>2000-04-04</td>\n",
       "      <td>145</td>\n",
       "      <td>33793200</td>\n",
       "      <td>0</td>\n",
       "      <td>2</td>\n",
       "      <td>2017</td>\n",
       "      <td>0.22</td>\n",
       "      <td>0.00</td>\n",
       "      <td>0.18</td>\n",
       "      <td>1.04</td>\n",
       "    </tr>\n",
       "    <tr>\n",
       "      <th>28</th>\n",
       "      <td>(주)에이프로젠</td>\n",
       "      <td>석탄화학계 화합물 및 기타 기초 유기화학 물질제조업</td>\n",
       "      <td>2000-04-04</td>\n",
       "      <td>119</td>\n",
       "      <td>25683640</td>\n",
       "      <td>16</td>\n",
       "      <td>0</td>\n",
       "      <td>2016</td>\n",
       "      <td>0.40</td>\n",
       "      <td>0.00</td>\n",
       "      <td>0.18</td>\n",
       "      <td>1.04</td>\n",
       "    </tr>\n",
       "    <tr>\n",
       "      <th>29</th>\n",
       "      <td>(주)에이프로젠</td>\n",
       "      <td>석탄화학계 화합물 및 기타 기초 유기화학 물질제조업</td>\n",
       "      <td>2000-04-04</td>\n",
       "      <td>85</td>\n",
       "      <td>18364400</td>\n",
       "      <td>0</td>\n",
       "      <td>2</td>\n",
       "      <td>2015</td>\n",
       "      <td>0.00</td>\n",
       "      <td>0.00</td>\n",
       "      <td>0.18</td>\n",
       "      <td>1.04</td>\n",
       "    </tr>\n",
       "    <tr>\n",
       "      <th>30</th>\n",
       "      <td>（주）지피클럽</td>\n",
       "      <td>컴퓨터 및 주변장치  소프트웨어 도매업</td>\n",
       "      <td>2004-03-03</td>\n",
       "      <td>113</td>\n",
       "      <td>27446860</td>\n",
       "      <td>5</td>\n",
       "      <td>0</td>\n",
       "      <td>2019</td>\n",
       "      <td>1.40</td>\n",
       "      <td>13.12</td>\n",
       "      <td>0.97</td>\n",
       "      <td>1.32</td>\n",
       "    </tr>\n",
       "    <tr>\n",
       "      <th>31</th>\n",
       "      <td>（주）지피클럽</td>\n",
       "      <td>컴퓨터 및 주변장치  소프트웨어 도매업</td>\n",
       "      <td>2004-03-03</td>\n",
       "      <td>47</td>\n",
       "      <td>10911720</td>\n",
       "      <td>3</td>\n",
       "      <td>0</td>\n",
       "      <td>2018</td>\n",
       "      <td>2.92</td>\n",
       "      <td>0.00</td>\n",
       "      <td>0.97</td>\n",
       "      <td>1.32</td>\n",
       "    </tr>\n",
       "    <tr>\n",
       "      <th>32</th>\n",
       "      <td>（주）지피클럽</td>\n",
       "      <td>컴퓨터 및 주변장치  소프트웨어 도매업</td>\n",
       "      <td>2004-03-03</td>\n",
       "      <td>12</td>\n",
       "      <td>2694720</td>\n",
       "      <td>1</td>\n",
       "      <td>0</td>\n",
       "      <td>2017</td>\n",
       "      <td>-0.08</td>\n",
       "      <td>0.00</td>\n",
       "      <td>0.97</td>\n",
       "      <td>1.32</td>\n",
       "    </tr>\n",
       "    <tr>\n",
       "      <th>33</th>\n",
       "      <td>（주）지피클럽</td>\n",
       "      <td>컴퓨터 및 주변장치  소프트웨어 도매업</td>\n",
       "      <td>2004-03-03</td>\n",
       "      <td>13</td>\n",
       "      <td>2491260</td>\n",
       "      <td>1</td>\n",
       "      <td>0</td>\n",
       "      <td>2016</td>\n",
       "      <td>0.62</td>\n",
       "      <td>0.00</td>\n",
       "      <td>0.97</td>\n",
       "      <td>1.32</td>\n",
       "    </tr>\n",
       "    <tr>\n",
       "      <th>34</th>\n",
       "      <td>（주）지피클럽</td>\n",
       "      <td>컴퓨터 및 주변장치  소프트웨어 도매업</td>\n",
       "      <td>2004-03-03</td>\n",
       "      <td>8</td>\n",
       "      <td>1742760</td>\n",
       "      <td>0</td>\n",
       "      <td>2</td>\n",
       "      <td>2015</td>\n",
       "      <td>0.00</td>\n",
       "      <td>0.00</td>\n",
       "      <td>0.97</td>\n",
       "      <td>1.32</td>\n",
       "    </tr>\n",
       "  </tbody>\n",
       "</table>\n",
       "</div>"
      ],
      "text/plain": [
       "          사업장명                            업종        적용일자  직원수      연금보험료  \\\n",
       "0   （주）비바리퍼블리카             응용 소프트웨어 개발 및 공급업  2013-08-01  310  118457320   \n",
       "1   （주）비바리퍼블리카             응용 소프트웨어 개발 및 공급업  2013-08-01  158   57709520   \n",
       "2   （주）비바리퍼블리카             응용 소프트웨어 개발 및 공급업  2013-08-01  103   34070000   \n",
       "3   （주）비바리퍼블리카             응용 소프트웨어 개발 및 공급업  2013-08-01   60   17035140   \n",
       "4   （주）비바리퍼블리카             응용 소프트웨어 개발 및 공급업  2013-08-01   27    6171340   \n",
       "5       주식회사쏘카                  자동차 임대업(렌트카)  2011-12-13  364   99589840   \n",
       "6       주식회사쏘카                  자동차 임대업(렌트카)  2011-12-13  281   66470520   \n",
       "7       주식회사쏘카                  자동차 임대업(렌트카)  2011-12-13  287   53342760   \n",
       "8       주식회사쏘카                  자동차 임대업(렌트카)  2011-12-13  271   49231800   \n",
       "9       주식회사쏘카                  자동차 임대업(렌트카)  2011-12-13   89   18339080   \n",
       "10    주식회사 무신사             응용 소프트웨어 개발 및 공급업  2012-07-01  332   90698840   \n",
       "11    주식회사 무신사             응용 소프트웨어 개발 및 공급업  2012-07-01  174   41011340   \n",
       "12    주식회사 무신사             응용 소프트웨어 개발 및 공급업  2012-07-01  100   22063880   \n",
       "13    주식회사 무신사             응용 소프트웨어 개발 및 공급업  2012-07-01   84   16270180   \n",
       "14    주식회사 무신사             응용 소프트웨어 개발 및 공급업  2012-07-01   61   11108000   \n",
       "15     (주)크래프톤             응용 소프트웨어 개발 및 공급업  2007-03-28  718  261583980   \n",
       "16     (주)크래프톤             응용 소프트웨어 개발 및 공급업  2007-03-28  570  183057500   \n",
       "17     (주)크래프톤             응용 소프트웨어 개발 및 공급업  2007-03-28  404  121350180   \n",
       "18     (주)크래프톤             응용 소프트웨어 개발 및 공급업  2007-03-28  257   71320080   \n",
       "19     (주)크래프톤             응용 소프트웨어 개발 및 공급업  2007-03-28  244   68539320   \n",
       "20      (주)야놀자                     전자상거래 소매업  2007-02-01  752  239361520   \n",
       "21      (주)야놀자                     전자상거래 소매업  2007-02-01  414  117630180   \n",
       "22      (주)야놀자                     전자상거래 소매업  2007-02-01  281   71755460   \n",
       "23      (주)야놀자                     전자상거래 소매업  2007-02-01  218   51018680   \n",
       "24      (주)야놀자                     전자상거래 소매업  2007-02-01  130   29811500   \n",
       "25    (주)에이프로젠  석탄화학계 화합물 및 기타 기초 유기화학 물질제조업  2000-04-04  178   41639000   \n",
       "26    (주)에이프로젠  석탄화학계 화합물 및 기타 기초 유기화학 물질제조업  2000-04-04  128   30339500   \n",
       "27    (주)에이프로젠  석탄화학계 화합물 및 기타 기초 유기화학 물질제조업  2000-04-04  145   33793200   \n",
       "28    (주)에이프로젠  석탄화학계 화합물 및 기타 기초 유기화학 물질제조업  2000-04-04  119   25683640   \n",
       "29    (주)에이프로젠  석탄화학계 화합물 및 기타 기초 유기화학 물질제조업  2000-04-04   85   18364400   \n",
       "30     （주）지피클럽         컴퓨터 및 주변장치  소프트웨어 도매업  2004-03-03  113   27446860   \n",
       "31     （주）지피클럽         컴퓨터 및 주변장치  소프트웨어 도매업  2004-03-03   47   10911720   \n",
       "32     （주）지피클럽         컴퓨터 및 주변장치  소프트웨어 도매업  2004-03-03   12    2694720   \n",
       "33     （주）지피클럽         컴퓨터 및 주변장치  소프트웨어 도매업  2004-03-03   13    2491260   \n",
       "34     （주）지피클럽         컴퓨터 및 주변장치  소프트웨어 도매업  2004-03-03    8    1742760   \n",
       "\n",
       "    신규취득자수  상실가입자수    년도  성장율_직원수  기간내성장율_직원수  연평균성장율_직원수  valuation  \n",
       "0       18      12  2019     0.96       10.48        0.69       2.60  \n",
       "1        5       3  2018     0.53        0.00        0.69       2.60  \n",
       "2        5       2  2017     0.72        0.00        0.69       2.60  \n",
       "3        5       3  2016     1.22        0.00        0.69       2.60  \n",
       "4        0       2  2015     0.00        0.00        0.69       2.60  \n",
       "5        7       5  2019     0.30        3.09        0.48       1.00  \n",
       "6       16      12  2018    -0.02        0.00        0.48       1.00  \n",
       "7        8      10  2017     0.06        0.00        0.48       1.00  \n",
       "8       27      11  2016     2.04        0.00        0.48       1.00  \n",
       "9       10       4  2015     0.00        0.00        0.48       1.00  \n",
       "10      12       5  2019     0.91        4.44        0.44       2.20  \n",
       "11      12       3  2018     0.74        0.00        0.44       2.20  \n",
       "12       2       0  2017     0.19        0.00        0.44       2.20  \n",
       "13       5       2  2016     0.38        0.00        0.44       2.20  \n",
       "14       0       0  2015     0.00        0.00        0.44       2.20  \n",
       "15      15      10  2019     0.26        1.94        0.26       5.00  \n",
       "16      23       7  2018     0.41        0.00        0.26       5.00  \n",
       "17      22       7  2017     0.57        0.00        0.26       5.00  \n",
       "18       9       1  2016     0.05        0.00        0.26       5.00  \n",
       "19       6       2  2015     0.00        0.00        0.26       5.00  \n",
       "20      64      20  2019     0.82        4.78        0.45       1.00  \n",
       "21      67      17  2018     0.47        0.00        0.45       1.00  \n",
       "22      12       7  2017     0.29        0.00        0.45       1.00  \n",
       "23      15       8  2016     0.68        0.00        0.45       1.00  \n",
       "24      19       1  2015     0.00        0.00        0.45       1.00  \n",
       "25       8       1  2019     0.39        1.09        0.18       1.04  \n",
       "26       1       3  2018    -0.12        0.00        0.18       1.04  \n",
       "27       0       2  2017     0.22        0.00        0.18       1.04  \n",
       "28      16       0  2016     0.40        0.00        0.18       1.04  \n",
       "29       0       2  2015     0.00        0.00        0.18       1.04  \n",
       "30       5       0  2019     1.40       13.12        0.97       1.32  \n",
       "31       3       0  2018     2.92        0.00        0.97       1.32  \n",
       "32       1       0  2017    -0.08        0.00        0.97       1.32  \n",
       "33       1       0  2016     0.62        0.00        0.97       1.32  \n",
       "34       0       2  2015     0.00        0.00        0.97       1.32  "
      ]
     },
     "execution_count": 20,
     "metadata": {},
     "output_type": "execute_result"
    }
   ],
   "source": [
    "df_unicorn.iloc[:,1:]"
   ]
  },
  {
   "cell_type": "markdown",
   "metadata": {
    "heading_collapsed": true,
    "hidden": true
   },
   "source": [
    "### 데이터 로드"
   ]
  },
  {
   "cell_type": "code",
   "execution_count": 74,
   "metadata": {
    "hidden": true
   },
   "outputs": [],
   "source": [
    "# 원본데이터 nps\n",
    "nps = pd.read_csv('../company_nps_data.csv', encoding = 'CP949')\n",
    "df = nps.copy()"
   ]
  },
  {
   "cell_type": "code",
   "execution_count": 124,
   "metadata": {
    "hidden": true
   },
   "outputs": [
    {
     "data": {
      "text/html": [
       "<div>\n",
       "<style scoped>\n",
       "    .dataframe tbody tr th:only-of-type {\n",
       "        vertical-align: middle;\n",
       "    }\n",
       "\n",
       "    .dataframe tbody tr th {\n",
       "        vertical-align: top;\n",
       "    }\n",
       "\n",
       "    .dataframe thead th {\n",
       "        text-align: right;\n",
       "    }\n",
       "</style>\n",
       "<table border=\"1\" class=\"dataframe\">\n",
       "  <thead>\n",
       "    <tr style=\"text-align: right;\">\n",
       "      <th></th>\n",
       "      <th>회사ID</th>\n",
       "      <th>연매출액</th>\n",
       "      <th>년도</th>\n",
       "      <th>월</th>\n",
       "      <th>월별_연금보험료</th>\n",
       "      <th>월별_직원수</th>\n",
       "    </tr>\n",
       "  </thead>\n",
       "  <tbody>\n",
       "    <tr>\n",
       "      <th>0</th>\n",
       "      <td>233757</td>\n",
       "      <td>41688077</td>\n",
       "      <td>2018</td>\n",
       "      <td>7</td>\n",
       "      <td>8912380</td>\n",
       "      <td>36</td>\n",
       "    </tr>\n",
       "    <tr>\n",
       "      <th>1</th>\n",
       "      <td>123464</td>\n",
       "      <td>1760695</td>\n",
       "      <td>2018</td>\n",
       "      <td>3</td>\n",
       "      <td>942380</td>\n",
       "      <td>5</td>\n",
       "    </tr>\n",
       "    <tr>\n",
       "      <th>2</th>\n",
       "      <td>342124</td>\n",
       "      <td>3221341</td>\n",
       "      <td>2018</td>\n",
       "      <td>7</td>\n",
       "      <td>781180</td>\n",
       "      <td>4</td>\n",
       "    </tr>\n",
       "    <tr>\n",
       "      <th>3</th>\n",
       "      <td>386420</td>\n",
       "      <td>4815584</td>\n",
       "      <td>2015</td>\n",
       "      <td>11</td>\n",
       "      <td>3795900</td>\n",
       "      <td>14</td>\n",
       "    </tr>\n",
       "    <tr>\n",
       "      <th>4</th>\n",
       "      <td>129243</td>\n",
       "      <td>9799736</td>\n",
       "      <td>2018</td>\n",
       "      <td>10</td>\n",
       "      <td>40724680</td>\n",
       "      <td>151</td>\n",
       "    </tr>\n",
       "    <tr>\n",
       "      <th>...</th>\n",
       "      <td>...</td>\n",
       "      <td>...</td>\n",
       "      <td>...</td>\n",
       "      <td>...</td>\n",
       "      <td>...</td>\n",
       "      <td>...</td>\n",
       "    </tr>\n",
       "    <tr>\n",
       "      <th>99796</th>\n",
       "      <td>171439</td>\n",
       "      <td>4630622</td>\n",
       "      <td>2017</td>\n",
       "      <td>2</td>\n",
       "      <td>2402740</td>\n",
       "      <td>11</td>\n",
       "    </tr>\n",
       "    <tr>\n",
       "      <th>99797</th>\n",
       "      <td>239388</td>\n",
       "      <td>1045021</td>\n",
       "      <td>2018</td>\n",
       "      <td>10</td>\n",
       "      <td>1428800</td>\n",
       "      <td>9</td>\n",
       "    </tr>\n",
       "    <tr>\n",
       "      <th>99798</th>\n",
       "      <td>272304</td>\n",
       "      <td>181898</td>\n",
       "      <td>2018</td>\n",
       "      <td>3</td>\n",
       "      <td>392560</td>\n",
       "      <td>4</td>\n",
       "    </tr>\n",
       "    <tr>\n",
       "      <th>99799</th>\n",
       "      <td>362194</td>\n",
       "      <td>2100218</td>\n",
       "      <td>2018</td>\n",
       "      <td>12</td>\n",
       "      <td>874780</td>\n",
       "      <td>3</td>\n",
       "    </tr>\n",
       "    <tr>\n",
       "      <th>99800</th>\n",
       "      <td>124281</td>\n",
       "      <td>132900</td>\n",
       "      <td>2017</td>\n",
       "      <td>11</td>\n",
       "      <td>291940</td>\n",
       "      <td>5</td>\n",
       "    </tr>\n",
       "  </tbody>\n",
       "</table>\n",
       "<p>99801 rows × 6 columns</p>\n",
       "</div>"
      ],
      "text/plain": [
       "         회사ID      연매출액    년도   월  월별_연금보험료  월별_직원수\n",
       "0      233757  41688077  2018   7   8912380      36\n",
       "1      123464   1760695  2018   3    942380       5\n",
       "2      342124   3221341  2018   7    781180       4\n",
       "3      386420   4815584  2015  11   3795900      14\n",
       "4      129243   9799736  2018  10  40724680     151\n",
       "...       ...       ...   ...  ..       ...     ...\n",
       "99796  171439   4630622  2017   2   2402740      11\n",
       "99797  239388   1045021  2018  10   1428800       9\n",
       "99798  272304    181898  2018   3    392560       4\n",
       "99799  362194   2100218  2018  12    874780       3\n",
       "99800  124281    132900  2017  11    291940       5\n",
       "\n",
       "[99801 rows x 6 columns]"
      ]
     },
     "execution_count": 124,
     "metadata": {},
     "output_type": "execute_result"
    }
   ],
   "source": [
    "df"
   ]
  },
  {
   "cell_type": "markdown",
   "metadata": {
    "heading_collapsed": true,
    "hidden": true
   },
   "source": [
    "### 데이터 개요"
   ]
  },
  {
   "cell_type": "code",
   "execution_count": 24,
   "metadata": {
    "hidden": true,
    "scrolled": true
   },
   "outputs": [
    {
     "data": {
      "text/html": [
       "<div>\n",
       "<style scoped>\n",
       "    .dataframe tbody tr th:only-of-type {\n",
       "        vertical-align: middle;\n",
       "    }\n",
       "\n",
       "    .dataframe tbody tr th {\n",
       "        vertical-align: top;\n",
       "    }\n",
       "\n",
       "    .dataframe thead th {\n",
       "        text-align: right;\n",
       "    }\n",
       "</style>\n",
       "<table border=\"1\" class=\"dataframe\">\n",
       "  <thead>\n",
       "    <tr style=\"text-align: right;\">\n",
       "      <th></th>\n",
       "      <th>회사ID</th>\n",
       "      <th>연매출액</th>\n",
       "      <th>년도</th>\n",
       "      <th>월</th>\n",
       "      <th>월별_연금보험료</th>\n",
       "      <th>월별_직원수</th>\n",
       "    </tr>\n",
       "  </thead>\n",
       "  <tbody>\n",
       "    <tr>\n",
       "      <th>0</th>\n",
       "      <td>233757</td>\n",
       "      <td>41688077</td>\n",
       "      <td>2018</td>\n",
       "      <td>7</td>\n",
       "      <td>8912380</td>\n",
       "      <td>36</td>\n",
       "    </tr>\n",
       "    <tr>\n",
       "      <th>1</th>\n",
       "      <td>123464</td>\n",
       "      <td>1760695</td>\n",
       "      <td>2018</td>\n",
       "      <td>3</td>\n",
       "      <td>942380</td>\n",
       "      <td>5</td>\n",
       "    </tr>\n",
       "    <tr>\n",
       "      <th>2</th>\n",
       "      <td>342124</td>\n",
       "      <td>3221341</td>\n",
       "      <td>2018</td>\n",
       "      <td>7</td>\n",
       "      <td>781180</td>\n",
       "      <td>4</td>\n",
       "    </tr>\n",
       "    <tr>\n",
       "      <th>3</th>\n",
       "      <td>386420</td>\n",
       "      <td>4815584</td>\n",
       "      <td>2015</td>\n",
       "      <td>11</td>\n",
       "      <td>3795900</td>\n",
       "      <td>14</td>\n",
       "    </tr>\n",
       "    <tr>\n",
       "      <th>4</th>\n",
       "      <td>129243</td>\n",
       "      <td>9799736</td>\n",
       "      <td>2018</td>\n",
       "      <td>10</td>\n",
       "      <td>40724680</td>\n",
       "      <td>151</td>\n",
       "    </tr>\n",
       "  </tbody>\n",
       "</table>\n",
       "</div>"
      ],
      "text/plain": [
       "     회사ID      연매출액    년도   월  월별_연금보험료  월별_직원수\n",
       "0  233757  41688077  2018   7   8912380      36\n",
       "1  123464   1760695  2018   3    942380       5\n",
       "2  342124   3221341  2018   7    781180       4\n",
       "3  386420   4815584  2015  11   3795900      14\n",
       "4  129243   9799736  2018  10  40724680     151"
      ]
     },
     "execution_count": 24,
     "metadata": {},
     "output_type": "execute_result"
    }
   ],
   "source": [
    "df.head()"
   ]
  },
  {
   "cell_type": "code",
   "execution_count": 25,
   "metadata": {
    "hidden": true,
    "scrolled": true
   },
   "outputs": [
    {
     "data": {
      "text/plain": [
       "Index(['회사ID', '연매출액', '년도', '월', '월별_연금보험료', '월별_직원수'], dtype='object')"
      ]
     },
     "execution_count": 25,
     "metadata": {},
     "output_type": "execute_result"
    }
   ],
   "source": [
    "df.columns"
   ]
  },
  {
   "cell_type": "code",
   "execution_count": 26,
   "metadata": {
    "hidden": true,
    "scrolled": false
   },
   "outputs": [
    {
     "name": "stdout",
     "output_type": "stream",
     "text": [
      "<class 'pandas.core.frame.DataFrame'>\n",
      "RangeIndex: 99801 entries, 0 to 99800\n",
      "Data columns (total 6 columns):\n",
      " #   Column    Non-Null Count  Dtype\n",
      "---  ------    --------------  -----\n",
      " 0   회사ID      99801 non-null  int64\n",
      " 1   연매출액      99801 non-null  int64\n",
      " 2   년도        99801 non-null  int64\n",
      " 3   월         99801 non-null  int64\n",
      " 4   월별_연금보험료  99801 non-null  int64\n",
      " 5   월별_직원수    99801 non-null  int64\n",
      "dtypes: int64(6)\n",
      "memory usage: 4.6 MB\n"
     ]
    }
   ],
   "source": [
    "df.info()"
   ]
  },
  {
   "cell_type": "code",
   "execution_count": 27,
   "metadata": {
    "hidden": true,
    "scrolled": false
   },
   "outputs": [
    {
     "data": {
      "text/plain": [
       "count   99801.00\n",
       "mean     2016.97\n",
       "std         0.98\n",
       "min      2015.00\n",
       "25%      2016.00\n",
       "50%      2017.00\n",
       "75%      2018.00\n",
       "max      2019.00\n",
       "Name: 년도, dtype: float64"
      ]
     },
     "execution_count": 27,
     "metadata": {},
     "output_type": "execute_result"
    }
   ],
   "source": [
    "df['년도'].describe()   # 2015년 - 2019년"
   ]
  },
  {
   "cell_type": "code",
   "execution_count": 28,
   "metadata": {
    "hidden": true
   },
   "outputs": [
    {
     "data": {
      "text/plain": [
       "5000"
      ]
     },
     "execution_count": 28,
     "metadata": {},
     "output_type": "execute_result"
    }
   ],
   "source": [
    "df['회사ID'].nunique()  # 5000개 회사"
   ]
  },
  {
   "cell_type": "code",
   "execution_count": 29,
   "metadata": {
    "hidden": true,
    "scrolled": true
   },
   "outputs": [
    {
     "data": {
      "text/html": [
       "<div>\n",
       "<style scoped>\n",
       "    .dataframe tbody tr th:only-of-type {\n",
       "        vertical-align: middle;\n",
       "    }\n",
       "\n",
       "    .dataframe tbody tr th {\n",
       "        vertical-align: top;\n",
       "    }\n",
       "\n",
       "    .dataframe thead th {\n",
       "        text-align: right;\n",
       "    }\n",
       "</style>\n",
       "<table border=\"1\" class=\"dataframe\">\n",
       "  <thead>\n",
       "    <tr style=\"text-align: right;\">\n",
       "      <th></th>\n",
       "      <th>회사ID</th>\n",
       "      <th>연매출액</th>\n",
       "      <th>년도</th>\n",
       "      <th>월</th>\n",
       "      <th>월별_연금보험료</th>\n",
       "      <th>월별_직원수</th>\n",
       "    </tr>\n",
       "  </thead>\n",
       "  <tbody>\n",
       "    <tr>\n",
       "      <th>33039</th>\n",
       "      <td>63</td>\n",
       "      <td>11328779396</td>\n",
       "      <td>2018</td>\n",
       "      <td>1</td>\n",
       "      <td>403119840</td>\n",
       "      <td>1006</td>\n",
       "    </tr>\n",
       "    <tr>\n",
       "      <th>74251</th>\n",
       "      <td>63</td>\n",
       "      <td>11328779396</td>\n",
       "      <td>2018</td>\n",
       "      <td>2</td>\n",
       "      <td>406770960</td>\n",
       "      <td>1018</td>\n",
       "    </tr>\n",
       "    <tr>\n",
       "      <th>80947</th>\n",
       "      <td>63</td>\n",
       "      <td>11328779396</td>\n",
       "      <td>2018</td>\n",
       "      <td>3</td>\n",
       "      <td>404826240</td>\n",
       "      <td>1013</td>\n",
       "    </tr>\n",
       "    <tr>\n",
       "      <th>80770</th>\n",
       "      <td>63</td>\n",
       "      <td>11328779396</td>\n",
       "      <td>2018</td>\n",
       "      <td>4</td>\n",
       "      <td>404211800</td>\n",
       "      <td>1012</td>\n",
       "    </tr>\n",
       "    <tr>\n",
       "      <th>28110</th>\n",
       "      <td>63</td>\n",
       "      <td>11328779396</td>\n",
       "      <td>2018</td>\n",
       "      <td>5</td>\n",
       "      <td>400339640</td>\n",
       "      <td>1002</td>\n",
       "    </tr>\n",
       "    <tr>\n",
       "      <th>...</th>\n",
       "      <td>...</td>\n",
       "      <td>...</td>\n",
       "      <td>...</td>\n",
       "      <td>...</td>\n",
       "      <td>...</td>\n",
       "      <td>...</td>\n",
       "    </tr>\n",
       "    <tr>\n",
       "      <th>244</th>\n",
       "      <td>3312354</td>\n",
       "      <td>1451563</td>\n",
       "      <td>2019</td>\n",
       "      <td>9</td>\n",
       "      <td>1312200</td>\n",
       "      <td>3</td>\n",
       "    </tr>\n",
       "    <tr>\n",
       "      <th>38757</th>\n",
       "      <td>3312354</td>\n",
       "      <td>1451563</td>\n",
       "      <td>2019</td>\n",
       "      <td>10</td>\n",
       "      <td>1312200</td>\n",
       "      <td>3</td>\n",
       "    </tr>\n",
       "    <tr>\n",
       "      <th>49019</th>\n",
       "      <td>3312354</td>\n",
       "      <td>1451563</td>\n",
       "      <td>2019</td>\n",
       "      <td>11</td>\n",
       "      <td>1312200</td>\n",
       "      <td>3</td>\n",
       "    </tr>\n",
       "    <tr>\n",
       "      <th>72163</th>\n",
       "      <td>3312354</td>\n",
       "      <td>1451563</td>\n",
       "      <td>2019</td>\n",
       "      <td>12</td>\n",
       "      <td>1312200</td>\n",
       "      <td>3</td>\n",
       "    </tr>\n",
       "    <tr>\n",
       "      <th>78099</th>\n",
       "      <td>5159723</td>\n",
       "      <td>2591898</td>\n",
       "      <td>2019</td>\n",
       "      <td>12</td>\n",
       "      <td>1257280</td>\n",
       "      <td>5</td>\n",
       "    </tr>\n",
       "  </tbody>\n",
       "</table>\n",
       "<p>99801 rows × 6 columns</p>\n",
       "</div>"
      ],
      "text/plain": [
       "          회사ID         연매출액    년도   월   월별_연금보험료  월별_직원수\n",
       "33039       63  11328779396  2018   1  403119840    1006\n",
       "74251       63  11328779396  2018   2  406770960    1018\n",
       "80947       63  11328779396  2018   3  404826240    1013\n",
       "80770       63  11328779396  2018   4  404211800    1012\n",
       "28110       63  11328779396  2018   5  400339640    1002\n",
       "...        ...          ...   ...  ..        ...     ...\n",
       "244    3312354      1451563  2019   9    1312200       3\n",
       "38757  3312354      1451563  2019  10    1312200       3\n",
       "49019  3312354      1451563  2019  11    1312200       3\n",
       "72163  3312354      1451563  2019  12    1312200       3\n",
       "78099  5159723      2591898  2019  12    1257280       5\n",
       "\n",
       "[99801 rows x 6 columns]"
      ]
     },
     "execution_count": 29,
     "metadata": {},
     "output_type": "execute_result"
    }
   ],
   "source": [
    "df.sort_values(['회사ID','년도','월'])"
   ]
  },
  {
   "cell_type": "markdown",
   "metadata": {
    "hidden": true
   },
   "source": [
    "- 5000개의 회사 데이터\n",
    "- '회사ID', '연매출액', '년도', '월', '월별_연금보험료', '월별_직원수'\n",
    "- 대상 기간: 2015년 - 2019년 (회사마다 데이터 보유기간 상이)"
   ]
  },
  {
   "cell_type": "markdown",
   "metadata": {
    "heading_collapsed": true
   },
   "source": [
    "## EDA\n",
    "**EDA 목적 :유니콘 지수 산출**\n",
    ">   - 데이터 파악 및 전처리 작업으로 최종 분석 데이터셋 구성\n",
    ">   - 최종 분석 데이터셋으로 유니콘 지수 산출 (스코어링에 필요한 지표 및 가중치 파악)"
   ]
  },
  {
   "cell_type": "markdown",
   "metadata": {
    "heading_collapsed": true,
    "hidden": true
   },
   "source": [
    "### 분석대상 필터링\n",
    "- 1개월의 데이터만 존재하는 경우, 성장성 파악이 어렵기 때문에 eda에서 제외함"
   ]
  },
  {
   "cell_type": "code",
   "execution_count": 75,
   "metadata": {
    "hidden": true,
    "scrolled": false
   },
   "outputs": [
    {
     "data": {
      "text/html": [
       "<div>\n",
       "<style scoped>\n",
       "    .dataframe tbody tr th:only-of-type {\n",
       "        vertical-align: middle;\n",
       "    }\n",
       "\n",
       "    .dataframe tbody tr th {\n",
       "        vertical-align: top;\n",
       "    }\n",
       "\n",
       "    .dataframe thead th {\n",
       "        text-align: right;\n",
       "    }\n",
       "</style>\n",
       "<table border=\"1\" class=\"dataframe\">\n",
       "  <thead>\n",
       "    <tr style=\"text-align: right;\">\n",
       "      <th></th>\n",
       "      <th>회사ID</th>\n",
       "      <th>연매출액</th>\n",
       "      <th>년도</th>\n",
       "      <th>월</th>\n",
       "      <th>월별_연금보험료</th>\n",
       "      <th>월별_직원수</th>\n",
       "    </tr>\n",
       "  </thead>\n",
       "  <tbody>\n",
       "    <tr>\n",
       "      <th>0</th>\n",
       "      <td>63</td>\n",
       "      <td>11328779396</td>\n",
       "      <td>2018</td>\n",
       "      <td>1</td>\n",
       "      <td>403119840</td>\n",
       "      <td>1006</td>\n",
       "    </tr>\n",
       "    <tr>\n",
       "      <th>1</th>\n",
       "      <td>63</td>\n",
       "      <td>11328779396</td>\n",
       "      <td>2018</td>\n",
       "      <td>2</td>\n",
       "      <td>406770960</td>\n",
       "      <td>1018</td>\n",
       "    </tr>\n",
       "    <tr>\n",
       "      <th>2</th>\n",
       "      <td>63</td>\n",
       "      <td>11328779396</td>\n",
       "      <td>2018</td>\n",
       "      <td>3</td>\n",
       "      <td>404826240</td>\n",
       "      <td>1013</td>\n",
       "    </tr>\n",
       "    <tr>\n",
       "      <th>3</th>\n",
       "      <td>63</td>\n",
       "      <td>11328779396</td>\n",
       "      <td>2018</td>\n",
       "      <td>4</td>\n",
       "      <td>404211800</td>\n",
       "      <td>1012</td>\n",
       "    </tr>\n",
       "    <tr>\n",
       "      <th>4</th>\n",
       "      <td>63</td>\n",
       "      <td>11328779396</td>\n",
       "      <td>2018</td>\n",
       "      <td>5</td>\n",
       "      <td>400339640</td>\n",
       "      <td>1002</td>\n",
       "    </tr>\n",
       "  </tbody>\n",
       "</table>\n",
       "</div>"
      ],
      "text/plain": [
       "   회사ID         연매출액    년도  월   월별_연금보험료  월별_직원수\n",
       "0    63  11328779396  2018  1  403119840    1006\n",
       "1    63  11328779396  2018  2  406770960    1018\n",
       "2    63  11328779396  2018  3  404826240    1013\n",
       "3    63  11328779396  2018  4  404211800    1012\n",
       "4    63  11328779396  2018  5  400339640    1002"
      ]
     },
     "execution_count": 75,
     "metadata": {},
     "output_type": "execute_result"
    }
   ],
   "source": [
    "# 회사 연도 월별 sort\n",
    "df_eda = df.sort_values(['회사ID','년도','월']).reset_index().drop('index', axis=1)\n",
    "df_eda.head()"
   ]
  },
  {
   "cell_type": "code",
   "execution_count": 76,
   "metadata": {
    "hidden": true,
    "scrolled": true
   },
   "outputs": [
    {
     "data": {
      "text/plain": [
       "(99762, 6)"
      ]
     },
     "execution_count": 76,
     "metadata": {},
     "output_type": "execute_result"
    }
   ],
   "source": [
    "drop_list1 = df_eda.groupby('회사ID').count().query('월==1').index\n",
    "# df.groupby('회사ID').count().query('월==1')\n",
    "df_eda = df_eda[~df_eda['회사ID'].isin(drop_list1)].sort_values(['회사ID','년도','월'])\n",
    "df_eda.shape"
   ]
  },
  {
   "cell_type": "code",
   "execution_count": 128,
   "metadata": {
    "hidden": true,
    "scrolled": false
   },
   "outputs": [
    {
     "data": {
      "text/plain": [
       "<matplotlib.axes._subplots.AxesSubplot at 0x1c4044f5ef0>"
      ]
     },
     "execution_count": 128,
     "metadata": {},
     "output_type": "execute_result"
    },
    {
     "data": {
      "image/png": "[encoded data removed]",
      "text/plain": [
       "<Figure size 720x288 with 1 Axes>"
      ]
     },
     "metadata": {},
     "output_type": "display_data"
    }
   ],
   "source": [
    "df_periodsize = pd.DataFrame(df_eda.groupby('회사ID').size()).reset_index().rename(columns={0:'데이터보유기간'})\n",
    "df_periodsize.groupby('데이터보유기간').count().plot.bar(rot=45, figsize=(10,4))"
   ]
  },
  {
   "cell_type": "code",
   "execution_count": 33,
   "metadata": {
    "hidden": true
   },
   "outputs": [
    {
     "data": {
      "text/plain": [
       "4961"
      ]
     },
     "execution_count": 33,
     "metadata": {},
     "output_type": "execute_result"
    }
   ],
   "source": [
    "# 4961 개의 회사\n",
    "df_eda['회사ID'].nunique()"
   ]
  },
  {
   "cell_type": "markdown",
   "metadata": {
    "hidden": true
   },
   "source": [
    "**분석대상기업**\n",
    "> - 적어도 2개월 이상의 데이터 가진 기업 4961개\n",
    "> - 12개월(1년) 데이터 가진 기업 다수"
   ]
  },
  {
   "cell_type": "markdown",
   "metadata": {
    "heading_collapsed": true,
    "hidden": true
   },
   "source": [
    "### 성장율\n",
    "> - 회사 ID별로 데이터 기간 상이하나, 기준시점/비교시점의 연금보험료/직원수/연매출액 성장율을 파악하고자 함\n",
    "> - **회사 ID별 제일빠른시점 = 기준시점, 제일최근시점 = 비교시점**"
   ]
  },
  {
   "cell_type": "code",
   "execution_count": 35,
   "metadata": {
    "hidden": true
   },
   "outputs": [],
   "source": [
    "start = df_eda.groupby('회사ID').min('index').reset_index()\n",
    "start = start.rename(columns={'월별_연금보험료': '기준_연금보험료',\n",
    "                              '월별_직원수':'기준_직원수',\n",
    "                              '연매출액':'기준_연매출액',\n",
    "                              '년도' :'기준_년도',\n",
    "                              '월':'기준_월'})\n",
    "end = df_eda.groupby('회사ID').max('index').reset_index()\n",
    "end = end.rename(columns={'월별_연금보험료': '비교_연금보험료',\n",
    "                          '월별_직원수':'비교_직원수',         \n",
    "                          '연매출액':'비교_연매출액',\n",
    "                          '년도' :'비교_년도',  \n",
    "                          '월':'비교_월'})"
   ]
  },
  {
   "cell_type": "code",
   "execution_count": 36,
   "metadata": {
    "hidden": true
   },
   "outputs": [
    {
     "name": "stdout",
     "output_type": "stream",
     "text": [
      "(4961, 6)\n",
      "(4961, 6)\n"
     ]
    }
   ],
   "source": [
    "# 계산 shape 일치 확인\n",
    "print(start.shape)\n",
    "print(end.shape)"
   ]
  },
  {
   "cell_type": "code",
   "execution_count": 37,
   "metadata": {
    "hidden": true,
    "scrolled": true
   },
   "outputs": [
    {
     "data": {
      "text/html": [
       "<div>\n",
       "<style scoped>\n",
       "    .dataframe tbody tr th:only-of-type {\n",
       "        vertical-align: middle;\n",
       "    }\n",
       "\n",
       "    .dataframe tbody tr th {\n",
       "        vertical-align: top;\n",
       "    }\n",
       "\n",
       "    .dataframe thead th {\n",
       "        text-align: right;\n",
       "    }\n",
       "</style>\n",
       "<table border=\"1\" class=\"dataframe\">\n",
       "  <thead>\n",
       "    <tr style=\"text-align: right;\">\n",
       "      <th></th>\n",
       "      <th>회사ID</th>\n",
       "      <th>기준_연매출액</th>\n",
       "      <th>기준_년도</th>\n",
       "      <th>기준_월</th>\n",
       "      <th>기준_연금보험료</th>\n",
       "      <th>기준_직원수</th>\n",
       "      <th>비교_연매출액</th>\n",
       "      <th>비교_년도</th>\n",
       "      <th>비교_월</th>\n",
       "      <th>비교_연금보험료</th>\n",
       "      <th>비교_직원수</th>\n",
       "    </tr>\n",
       "  </thead>\n",
       "  <tbody>\n",
       "    <tr>\n",
       "      <th>0</th>\n",
       "      <td>63</td>\n",
       "      <td>11328779396</td>\n",
       "      <td>2018</td>\n",
       "      <td>1</td>\n",
       "      <td>400339640</td>\n",
       "      <td>995</td>\n",
       "      <td>11328779396</td>\n",
       "      <td>2018</td>\n",
       "      <td>12</td>\n",
       "      <td>419953960</td>\n",
       "      <td>1018</td>\n",
       "    </tr>\n",
       "    <tr>\n",
       "      <th>1</th>\n",
       "      <td>95</td>\n",
       "      <td>656947437</td>\n",
       "      <td>2018</td>\n",
       "      <td>1</td>\n",
       "      <td>209916320</td>\n",
       "      <td>522</td>\n",
       "      <td>656947437</td>\n",
       "      <td>2018</td>\n",
       "      <td>12</td>\n",
       "      <td>219997840</td>\n",
       "      <td>562</td>\n",
       "    </tr>\n",
       "    <tr>\n",
       "      <th>2</th>\n",
       "      <td>102</td>\n",
       "      <td>742658938</td>\n",
       "      <td>2018</td>\n",
       "      <td>5</td>\n",
       "      <td>168943080</td>\n",
       "      <td>722</td>\n",
       "      <td>742658938</td>\n",
       "      <td>2018</td>\n",
       "      <td>12</td>\n",
       "      <td>178850980</td>\n",
       "      <td>785</td>\n",
       "    </tr>\n",
       "  </tbody>\n",
       "</table>\n",
       "</div>"
      ],
      "text/plain": [
       "   회사ID      기준_연매출액  기준_년도  기준_월   기준_연금보험료  기준_직원수      비교_연매출액  비교_년도  \\\n",
       "0    63  11328779396   2018     1  400339640     995  11328779396   2018   \n",
       "1    95    656947437   2018     1  209916320     522    656947437   2018   \n",
       "2   102    742658938   2018     5  168943080     722    742658938   2018   \n",
       "\n",
       "   비교_월   비교_연금보험료  비교_직원수  \n",
       "0    12  419953960    1018  \n",
       "1    12  219997840     562  \n",
       "2    12  178850980     785  "
      ]
     },
     "execution_count": 37,
     "metadata": {},
     "output_type": "execute_result"
    }
   ],
   "source": [
    "df_growth = start.merge(end, how='inner', on ='회사ID')\n",
    "df_growth.head(3)"
   ]
  },
  {
   "cell_type": "code",
   "execution_count": 38,
   "metadata": {
    "hidden": true,
    "scrolled": true
   },
   "outputs": [
    {
     "data": {
      "text/html": [
       "<div>\n",
       "<style scoped>\n",
       "    .dataframe tbody tr th:only-of-type {\n",
       "        vertical-align: middle;\n",
       "    }\n",
       "\n",
       "    .dataframe tbody tr th {\n",
       "        vertical-align: top;\n",
       "    }\n",
       "\n",
       "    .dataframe thead th {\n",
       "        text-align: right;\n",
       "    }\n",
       "</style>\n",
       "<table border=\"1\" class=\"dataframe\">\n",
       "  <thead>\n",
       "    <tr style=\"text-align: right;\">\n",
       "      <th></th>\n",
       "      <th>회사ID</th>\n",
       "      <th>기준_연매출액</th>\n",
       "      <th>기준_년도</th>\n",
       "      <th>기준_월</th>\n",
       "      <th>기준_연금보험료</th>\n",
       "      <th>기준_직원수</th>\n",
       "      <th>비교_연매출액</th>\n",
       "      <th>비교_년도</th>\n",
       "      <th>비교_월</th>\n",
       "      <th>비교_연금보험료</th>\n",
       "      <th>비교_직원수</th>\n",
       "      <th>성장율_연금보험료</th>\n",
       "      <th>성장율_직원수</th>\n",
       "      <th>성장율_연매출액</th>\n",
       "    </tr>\n",
       "  </thead>\n",
       "  <tbody>\n",
       "    <tr>\n",
       "      <th>0</th>\n",
       "      <td>63</td>\n",
       "      <td>11328779396</td>\n",
       "      <td>2018</td>\n",
       "      <td>1</td>\n",
       "      <td>400339640</td>\n",
       "      <td>995</td>\n",
       "      <td>11328779396</td>\n",
       "      <td>2018</td>\n",
       "      <td>12</td>\n",
       "      <td>419953960</td>\n",
       "      <td>1018</td>\n",
       "      <td>0.05</td>\n",
       "      <td>0.02</td>\n",
       "      <td>0.00</td>\n",
       "    </tr>\n",
       "    <tr>\n",
       "      <th>1</th>\n",
       "      <td>95</td>\n",
       "      <td>656947437</td>\n",
       "      <td>2018</td>\n",
       "      <td>1</td>\n",
       "      <td>209916320</td>\n",
       "      <td>522</td>\n",
       "      <td>656947437</td>\n",
       "      <td>2018</td>\n",
       "      <td>12</td>\n",
       "      <td>219997840</td>\n",
       "      <td>562</td>\n",
       "      <td>0.05</td>\n",
       "      <td>0.08</td>\n",
       "      <td>0.00</td>\n",
       "    </tr>\n",
       "    <tr>\n",
       "      <th>2</th>\n",
       "      <td>102</td>\n",
       "      <td>742658938</td>\n",
       "      <td>2018</td>\n",
       "      <td>5</td>\n",
       "      <td>168943080</td>\n",
       "      <td>722</td>\n",
       "      <td>742658938</td>\n",
       "      <td>2018</td>\n",
       "      <td>12</td>\n",
       "      <td>178850980</td>\n",
       "      <td>785</td>\n",
       "      <td>0.06</td>\n",
       "      <td>0.09</td>\n",
       "      <td>0.00</td>\n",
       "    </tr>\n",
       "  </tbody>\n",
       "</table>\n",
       "</div>"
      ],
      "text/plain": [
       "   회사ID      기준_연매출액  기준_년도  기준_월   기준_연금보험료  기준_직원수      비교_연매출액  비교_년도  \\\n",
       "0    63  11328779396   2018     1  400339640     995  11328779396   2018   \n",
       "1    95    656947437   2018     1  209916320     522    656947437   2018   \n",
       "2   102    742658938   2018     5  168943080     722    742658938   2018   \n",
       "\n",
       "   비교_월   비교_연금보험료  비교_직원수  성장율_연금보험료  성장율_직원수  성장율_연매출액  \n",
       "0    12  419953960    1018       0.05     0.02      0.00  \n",
       "1    12  219997840     562       0.05     0.08      0.00  \n",
       "2    12  178850980     785       0.06     0.09      0.00  "
      ]
     },
     "execution_count": 38,
     "metadata": {},
     "output_type": "execute_result"
    }
   ],
   "source": [
    "# 지표별 기간내 성장율 변수 추가\n",
    "df_growth['성장율_연금보험료'] = (df_growth['비교_연금보험료']-df_growth['기준_연금보험료'])/df_growth['기준_연금보험료']\n",
    "df_growth['성장율_직원수'] = (df_growth['비교_직원수']-df_growth['기준_직원수'])/df_growth['기준_직원수']\n",
    "\n",
    "# 대상기간이 1년보다 짧은 경우가 많기 때문에 0일 가능성 높음\n",
    "df_growth['성장율_연매출액'] = (df_growth['비교_연매출액']-df_growth['기준_연매출액'])/df_growth['기준_연매출액']\n",
    "df_growth.head(3) "
   ]
  },
  {
   "cell_type": "code",
   "execution_count": 53,
   "metadata": {
    "hidden": true
   },
   "outputs": [],
   "source": [
    "# 지표별 기간내 증감 변수 추가\n",
    "df_growth['증감_연금보험료'] = (df_growth['비교_연금보험료']-df_growth['기준_연금보험료'])\n",
    "df_growth['증감_직원수'] = (df_growth['비교_직원수']-df_growth['기준_직원수'])\n",
    "\n",
    "# 대상기간이 1년보다 짧은 경우가 많기 때문에 0일 가능성 높음\n",
    "df_growth['증감_연매출액'] = (df_growth['비교_연매출액']-df_growth['기준_연매출액'])"
   ]
  },
  {
   "cell_type": "code",
   "execution_count": 54,
   "metadata": {
    "hidden": true,
    "scrolled": false
   },
   "outputs": [
    {
     "data": {
      "text/html": [
       "<div>\n",
       "<style scoped>\n",
       "    .dataframe tbody tr th:only-of-type {\n",
       "        vertical-align: middle;\n",
       "    }\n",
       "\n",
       "    .dataframe tbody tr th {\n",
       "        vertical-align: top;\n",
       "    }\n",
       "\n",
       "    .dataframe thead th {\n",
       "        text-align: right;\n",
       "    }\n",
       "</style>\n",
       "<table border=\"1\" class=\"dataframe\">\n",
       "  <thead>\n",
       "    <tr style=\"text-align: right;\">\n",
       "      <th></th>\n",
       "      <th>count</th>\n",
       "      <th>mean</th>\n",
       "      <th>std</th>\n",
       "      <th>min</th>\n",
       "      <th>25%</th>\n",
       "      <th>50%</th>\n",
       "      <th>75%</th>\n",
       "      <th>max</th>\n",
       "    </tr>\n",
       "  </thead>\n",
       "  <tbody>\n",
       "    <tr>\n",
       "      <th>성장율_연금보험료</th>\n",
       "      <td>4960.00</td>\n",
       "      <td>inf</td>\n",
       "      <td>NaN</td>\n",
       "      <td>0.00</td>\n",
       "      <td>0.22</td>\n",
       "      <td>0.43</td>\n",
       "      <td>0.81</td>\n",
       "      <td>inf</td>\n",
       "    </tr>\n",
       "    <tr>\n",
       "      <th>성장율_직원수</th>\n",
       "      <td>4960.00</td>\n",
       "      <td>inf</td>\n",
       "      <td>NaN</td>\n",
       "      <td>0.00</td>\n",
       "      <td>0.20</td>\n",
       "      <td>0.36</td>\n",
       "      <td>0.67</td>\n",
       "      <td>inf</td>\n",
       "    </tr>\n",
       "    <tr>\n",
       "      <th>성장율_연매출액</th>\n",
       "      <td>4961.00</td>\n",
       "      <td>1.56</td>\n",
       "      <td>37.27</td>\n",
       "      <td>-12.11</td>\n",
       "      <td>0.00</td>\n",
       "      <td>0.04</td>\n",
       "      <td>0.44</td>\n",
       "      <td>2362.12</td>\n",
       "    </tr>\n",
       "    <tr>\n",
       "      <th>증감_연금보험료</th>\n",
       "      <td>4961.00</td>\n",
       "      <td>2471333.68</td>\n",
       "      <td>11909820.34</td>\n",
       "      <td>0.00</td>\n",
       "      <td>307800.00</td>\n",
       "      <td>713040.00</td>\n",
       "      <td>1601140.00</td>\n",
       "      <td>398886080.00</td>\n",
       "    </tr>\n",
       "    <tr>\n",
       "      <th>증감_직원수</th>\n",
       "      <td>4961.00</td>\n",
       "      <td>9.52</td>\n",
       "      <td>42.31</td>\n",
       "      <td>0.00</td>\n",
       "      <td>1.00</td>\n",
       "      <td>3.00</td>\n",
       "      <td>7.00</td>\n",
       "      <td>1534.00</td>\n",
       "    </tr>\n",
       "    <tr>\n",
       "      <th>증감_연매출액</th>\n",
       "      <td>4961.00</td>\n",
       "      <td>4760395.73</td>\n",
       "      <td>51955184.86</td>\n",
       "      <td>0.00</td>\n",
       "      <td>0.00</td>\n",
       "      <td>61753.00</td>\n",
       "      <td>1402615.00</td>\n",
       "      <td>2950589471.00</td>\n",
       "    </tr>\n",
       "  </tbody>\n",
       "</table>\n",
       "</div>"
      ],
      "text/plain": [
       "            count       mean         std    min       25%       50%  \\\n",
       "성장율_연금보험료 4960.00        inf         NaN   0.00      0.22      0.43   \n",
       "성장율_직원수   4960.00        inf         NaN   0.00      0.20      0.36   \n",
       "성장율_연매출액  4961.00       1.56       37.27 -12.11      0.00      0.04   \n",
       "증감_연금보험료  4961.00 2471333.68 11909820.34   0.00 307800.00 713040.00   \n",
       "증감_직원수    4961.00       9.52       42.31   0.00      1.00      3.00   \n",
       "증감_연매출액   4961.00 4760395.73 51955184.86   0.00      0.00  61753.00   \n",
       "\n",
       "                 75%           max  \n",
       "성장율_연금보험료       0.81           inf  \n",
       "성장율_직원수         0.67           inf  \n",
       "성장율_연매출액        0.44       2362.12  \n",
       "증감_연금보험료  1601140.00  398886080.00  \n",
       "증감_직원수          7.00       1534.00  \n",
       "증감_연매출액   1402615.00 2950589471.00  "
      ]
     },
     "execution_count": 54,
     "metadata": {},
     "output_type": "execute_result"
    }
   ],
   "source": [
    "df_growth.filter(regex='성장율|증감').describe().T"
   ]
  },
  {
   "cell_type": "markdown",
   "metadata": {
    "heading_collapsed": true,
    "hidden": true
   },
   "source": [
    "#### 마이너스 성장"
   ]
  },
  {
   "cell_type": "code",
   "execution_count": 78,
   "metadata": {
    "hidden": true,
    "scrolled": false
   },
   "outputs": [
    {
     "name": "stdout",
     "output_type": "stream",
     "text": [
      "(99762, 6)\n",
      "세부 분석 대상 기업 : 4961\n"
     ]
    }
   ],
   "source": [
    "# 증감 (매출액) 마이너스 제외 0개\n",
    "drop_list2 = list(df_growth[df_growth['증감_연매출액']<0]['회사ID'])\n",
    "df_eda = df_eda[~df_eda['회사ID'].isin(drop_list2)].sort_values(['회사ID','년도','월'])\n",
    "print(df_eda.shape)\n",
    "print('세부 분석 대상 기업 :', df_eda['회사ID'].nunique())"
   ]
  },
  {
   "cell_type": "code",
   "execution_count": 79,
   "metadata": {
    "hidden": true,
    "scrolled": false
   },
   "outputs": [
    {
     "data": {
      "text/html": [
       "<div>\n",
       "<style scoped>\n",
       "    .dataframe tbody tr th:only-of-type {\n",
       "        vertical-align: middle;\n",
       "    }\n",
       "\n",
       "    .dataframe tbody tr th {\n",
       "        vertical-align: top;\n",
       "    }\n",
       "\n",
       "    .dataframe thead th {\n",
       "        text-align: right;\n",
       "    }\n",
       "</style>\n",
       "<table border=\"1\" class=\"dataframe\">\n",
       "  <thead>\n",
       "    <tr style=\"text-align: right;\">\n",
       "      <th></th>\n",
       "      <th>회사ID</th>\n",
       "      <th>연매출액</th>\n",
       "      <th>년도</th>\n",
       "      <th>월</th>\n",
       "      <th>월별_연금보험료</th>\n",
       "      <th>월별_직원수</th>\n",
       "      <th>성장율_연금보험료</th>\n",
       "      <th>성장율_직원수</th>\n",
       "      <th>성장율_연매출액</th>\n",
       "      <th>증감_연금보험료</th>\n",
       "      <th>증감_직원수</th>\n",
       "      <th>증감_연매출액</th>\n",
       "    </tr>\n",
       "  </thead>\n",
       "  <tbody>\n",
       "    <tr>\n",
       "      <th>0</th>\n",
       "      <td>63</td>\n",
       "      <td>11328779396</td>\n",
       "      <td>2018</td>\n",
       "      <td>1</td>\n",
       "      <td>403119840</td>\n",
       "      <td>1006</td>\n",
       "      <td>0.05</td>\n",
       "      <td>0.02</td>\n",
       "      <td>0.00</td>\n",
       "      <td>19614320</td>\n",
       "      <td>23</td>\n",
       "      <td>0</td>\n",
       "    </tr>\n",
       "    <tr>\n",
       "      <th>1</th>\n",
       "      <td>63</td>\n",
       "      <td>11328779396</td>\n",
       "      <td>2018</td>\n",
       "      <td>2</td>\n",
       "      <td>406770960</td>\n",
       "      <td>1018</td>\n",
       "      <td>0.05</td>\n",
       "      <td>0.02</td>\n",
       "      <td>0.00</td>\n",
       "      <td>19614320</td>\n",
       "      <td>23</td>\n",
       "      <td>0</td>\n",
       "    </tr>\n",
       "    <tr>\n",
       "      <th>2</th>\n",
       "      <td>63</td>\n",
       "      <td>11328779396</td>\n",
       "      <td>2018</td>\n",
       "      <td>3</td>\n",
       "      <td>404826240</td>\n",
       "      <td>1013</td>\n",
       "      <td>0.05</td>\n",
       "      <td>0.02</td>\n",
       "      <td>0.00</td>\n",
       "      <td>19614320</td>\n",
       "      <td>23</td>\n",
       "      <td>0</td>\n",
       "    </tr>\n",
       "  </tbody>\n",
       "</table>\n",
       "</div>"
      ],
      "text/plain": [
       "   회사ID         연매출액    년도  월   월별_연금보험료  월별_직원수  성장율_연금보험료  성장율_직원수  \\\n",
       "0    63  11328779396  2018  1  403119840    1006       0.05     0.02   \n",
       "1    63  11328779396  2018  2  406770960    1018       0.05     0.02   \n",
       "2    63  11328779396  2018  3  404826240    1013       0.05     0.02   \n",
       "\n",
       "   성장율_연매출액  증감_연금보험료  증감_직원수  증감_연매출액  \n",
       "0      0.00  19614320      23        0  \n",
       "1      0.00  19614320      23        0  \n",
       "2      0.00  19614320      23        0  "
      ]
     },
     "execution_count": 79,
     "metadata": {},
     "output_type": "execute_result"
    }
   ],
   "source": [
    "df_eda = df_eda.merge(df_growth.filter(regex='회사ID|성장율|증감'), on='회사ID', how='left')\n",
    "df_eda.head(3)"
   ]
  },
  {
   "cell_type": "code",
   "execution_count": 119,
   "metadata": {
    "hidden": true
   },
   "outputs": [
    {
     "data": {
      "text/html": [
       "<div>\n",
       "<style scoped>\n",
       "    .dataframe tbody tr th:only-of-type {\n",
       "        vertical-align: middle;\n",
       "    }\n",
       "\n",
       "    .dataframe tbody tr th {\n",
       "        vertical-align: top;\n",
       "    }\n",
       "\n",
       "    .dataframe thead th {\n",
       "        text-align: right;\n",
       "    }\n",
       "</style>\n",
       "<table border=\"1\" class=\"dataframe\">\n",
       "  <thead>\n",
       "    <tr style=\"text-align: right;\">\n",
       "      <th></th>\n",
       "      <th>성장율_연금보험료</th>\n",
       "      <th>성장율_직원수</th>\n",
       "      <th>성장율_연매출액</th>\n",
       "      <th>증감_연금보험료</th>\n",
       "      <th>증감_직원수</th>\n",
       "      <th>증감_연매출액</th>\n",
       "    </tr>\n",
       "    <tr>\n",
       "      <th>회사ID</th>\n",
       "      <th></th>\n",
       "      <th></th>\n",
       "      <th></th>\n",
       "      <th></th>\n",
       "      <th></th>\n",
       "      <th></th>\n",
       "    </tr>\n",
       "  </thead>\n",
       "  <tbody>\n",
       "    <tr>\n",
       "      <th>63</th>\n",
       "      <td>0.05</td>\n",
       "      <td>0.02</td>\n",
       "      <td>0.00</td>\n",
       "      <td>19614320</td>\n",
       "      <td>23</td>\n",
       "      <td>0</td>\n",
       "    </tr>\n",
       "    <tr>\n",
       "      <th>95</th>\n",
       "      <td>0.05</td>\n",
       "      <td>0.08</td>\n",
       "      <td>0.00</td>\n",
       "      <td>10081520</td>\n",
       "      <td>40</td>\n",
       "      <td>0</td>\n",
       "    </tr>\n",
       "    <tr>\n",
       "      <th>102</th>\n",
       "      <td>0.06</td>\n",
       "      <td>0.09</td>\n",
       "      <td>0.00</td>\n",
       "      <td>9907900</td>\n",
       "      <td>63</td>\n",
       "      <td>0</td>\n",
       "    </tr>\n",
       "    <tr>\n",
       "      <th>295</th>\n",
       "      <td>0.33</td>\n",
       "      <td>0.36</td>\n",
       "      <td>0.00</td>\n",
       "      <td>23451220</td>\n",
       "      <td>84</td>\n",
       "      <td>0</td>\n",
       "    </tr>\n",
       "    <tr>\n",
       "      <th>414</th>\n",
       "      <td>0.09</td>\n",
       "      <td>0.02</td>\n",
       "      <td>0.00</td>\n",
       "      <td>6952600</td>\n",
       "      <td>6</td>\n",
       "      <td>0</td>\n",
       "    </tr>\n",
       "    <tr>\n",
       "      <th>...</th>\n",
       "      <td>...</td>\n",
       "      <td>...</td>\n",
       "      <td>...</td>\n",
       "      <td>...</td>\n",
       "      <td>...</td>\n",
       "      <td>...</td>\n",
       "    </tr>\n",
       "    <tr>\n",
       "      <th>1949405</th>\n",
       "      <td>0.24</td>\n",
       "      <td>0.67</td>\n",
       "      <td>0.00</td>\n",
       "      <td>278100</td>\n",
       "      <td>2</td>\n",
       "      <td>0</td>\n",
       "    </tr>\n",
       "    <tr>\n",
       "      <th>2329349</th>\n",
       "      <td>5.74</td>\n",
       "      <td>5.00</td>\n",
       "      <td>0.00</td>\n",
       "      <td>4037400</td>\n",
       "      <td>15</td>\n",
       "      <td>0</td>\n",
       "    </tr>\n",
       "    <tr>\n",
       "      <th>2400284</th>\n",
       "      <td>1.89</td>\n",
       "      <td>1.33</td>\n",
       "      <td>0.00</td>\n",
       "      <td>1036520</td>\n",
       "      <td>4</td>\n",
       "      <td>0</td>\n",
       "    </tr>\n",
       "    <tr>\n",
       "      <th>2693684</th>\n",
       "      <td>0.00</td>\n",
       "      <td>0.00</td>\n",
       "      <td>0.00</td>\n",
       "      <td>0</td>\n",
       "      <td>0</td>\n",
       "      <td>0</td>\n",
       "    </tr>\n",
       "    <tr>\n",
       "      <th>3312354</th>\n",
       "      <td>0.00</td>\n",
       "      <td>0.00</td>\n",
       "      <td>0.00</td>\n",
       "      <td>0</td>\n",
       "      <td>0</td>\n",
       "      <td>0</td>\n",
       "    </tr>\n",
       "  </tbody>\n",
       "</table>\n",
       "<p>4961 rows × 6 columns</p>\n",
       "</div>"
      ],
      "text/plain": [
       "         성장율_연금보험료  성장율_직원수  성장율_연매출액  증감_연금보험료  증감_직원수  증감_연매출액\n",
       "회사ID                                                            \n",
       "63            0.05     0.02      0.00  19614320      23        0\n",
       "95            0.05     0.08      0.00  10081520      40        0\n",
       "102           0.06     0.09      0.00   9907900      63        0\n",
       "295           0.33     0.36      0.00  23451220      84        0\n",
       "414           0.09     0.02      0.00   6952600       6        0\n",
       "...            ...      ...       ...       ...     ...      ...\n",
       "1949405       0.24     0.67      0.00    278100       2        0\n",
       "2329349       5.74     5.00      0.00   4037400      15        0\n",
       "2400284       1.89     1.33      0.00   1036520       4        0\n",
       "2693684       0.00     0.00      0.00         0       0        0\n",
       "3312354       0.00     0.00      0.00         0       0        0\n",
       "\n",
       "[4961 rows x 6 columns]"
      ]
     },
     "execution_count": 119,
     "metadata": {},
     "output_type": "execute_result"
    }
   ],
   "source": [
    "df_eda.filter(regex='회사ID|성장율|증감').groupby('회사ID').agg({'성장율_연금보험료':'mean','성장율_직원수':'mean', '성장율_연매출액' : 'mean',\n",
    "                                                        '증감_연금보험료':'mean','증감_직원수':'mean', '증감_연매출액' : 'mean' })"
   ]
  },
  {
   "cell_type": "markdown",
   "metadata": {
    "heading_collapsed": true,
    "hidden": true
   },
   "source": [
    "##### ?\n",
    "- 분석 대상 기업 선정시 데이터 보유 기간 고려 필요해보임\n",
    "- 성장율 지표 계산방법?"
   ]
  },
  {
   "cell_type": "markdown",
   "metadata": {
    "hidden": true
   },
   "source": [
    "#### 매출액"
   ]
  },
  {
   "cell_type": "markdown",
   "metadata": {
    "heading_collapsed": true,
    "hidden": true
   },
   "source": [
    "#### 직원수"
   ]
  },
  {
   "cell_type": "markdown",
   "metadata": {
    "heading_collapsed": true,
    "hidden": true
   },
   "source": [
    "### 데이터 보유기간 \n",
    "- 데이터 보유 기간이 길면, 인지도popularity 가 높지 않을까 ?\n",
    "- 데이터 보유 기간과 지표들간의 관계?"
   ]
  },
  {
   "cell_type": "code",
   "execution_count": 82,
   "metadata": {
    "hidden": true
   },
   "outputs": [
    {
     "data": {
      "text/html": [
       "<div>\n",
       "<style scoped>\n",
       "    .dataframe tbody tr th:only-of-type {\n",
       "        vertical-align: middle;\n",
       "    }\n",
       "\n",
       "    .dataframe tbody tr th {\n",
       "        vertical-align: top;\n",
       "    }\n",
       "\n",
       "    .dataframe thead th {\n",
       "        text-align: right;\n",
       "    }\n",
       "</style>\n",
       "<table border=\"1\" class=\"dataframe\">\n",
       "  <thead>\n",
       "    <tr style=\"text-align: right;\">\n",
       "      <th></th>\n",
       "      <th>회사ID</th>\n",
       "      <th>연매출액</th>\n",
       "      <th>년도</th>\n",
       "      <th>월</th>\n",
       "      <th>월별_연금보험료</th>\n",
       "      <th>월별_직원수</th>\n",
       "      <th>성장율_연금보험료</th>\n",
       "      <th>성장율_직원수</th>\n",
       "      <th>성장율_연매출액</th>\n",
       "      <th>증감_연금보험료</th>\n",
       "      <th>증감_직원수</th>\n",
       "      <th>증감_연매출액</th>\n",
       "      <th>데이터보유기간</th>\n",
       "    </tr>\n",
       "  </thead>\n",
       "  <tbody>\n",
       "    <tr>\n",
       "      <th>0</th>\n",
       "      <td>63</td>\n",
       "      <td>11328779396</td>\n",
       "      <td>2018</td>\n",
       "      <td>1</td>\n",
       "      <td>403119840</td>\n",
       "      <td>1006</td>\n",
       "      <td>0.05</td>\n",
       "      <td>0.02</td>\n",
       "      <td>0.00</td>\n",
       "      <td>19614320</td>\n",
       "      <td>23</td>\n",
       "      <td>0</td>\n",
       "      <td>12</td>\n",
       "    </tr>\n",
       "    <tr>\n",
       "      <th>1</th>\n",
       "      <td>63</td>\n",
       "      <td>11328779396</td>\n",
       "      <td>2018</td>\n",
       "      <td>2</td>\n",
       "      <td>406770960</td>\n",
       "      <td>1018</td>\n",
       "      <td>0.05</td>\n",
       "      <td>0.02</td>\n",
       "      <td>0.00</td>\n",
       "      <td>19614320</td>\n",
       "      <td>23</td>\n",
       "      <td>0</td>\n",
       "      <td>12</td>\n",
       "    </tr>\n",
       "    <tr>\n",
       "      <th>2</th>\n",
       "      <td>63</td>\n",
       "      <td>11328779396</td>\n",
       "      <td>2018</td>\n",
       "      <td>3</td>\n",
       "      <td>404826240</td>\n",
       "      <td>1013</td>\n",
       "      <td>0.05</td>\n",
       "      <td>0.02</td>\n",
       "      <td>0.00</td>\n",
       "      <td>19614320</td>\n",
       "      <td>23</td>\n",
       "      <td>0</td>\n",
       "      <td>12</td>\n",
       "    </tr>\n",
       "    <tr>\n",
       "      <th>3</th>\n",
       "      <td>63</td>\n",
       "      <td>11328779396</td>\n",
       "      <td>2018</td>\n",
       "      <td>4</td>\n",
       "      <td>404211800</td>\n",
       "      <td>1012</td>\n",
       "      <td>0.05</td>\n",
       "      <td>0.02</td>\n",
       "      <td>0.00</td>\n",
       "      <td>19614320</td>\n",
       "      <td>23</td>\n",
       "      <td>0</td>\n",
       "      <td>12</td>\n",
       "    </tr>\n",
       "    <tr>\n",
       "      <th>4</th>\n",
       "      <td>63</td>\n",
       "      <td>11328779396</td>\n",
       "      <td>2018</td>\n",
       "      <td>5</td>\n",
       "      <td>400339640</td>\n",
       "      <td>1002</td>\n",
       "      <td>0.05</td>\n",
       "      <td>0.02</td>\n",
       "      <td>0.00</td>\n",
       "      <td>19614320</td>\n",
       "      <td>23</td>\n",
       "      <td>0</td>\n",
       "      <td>12</td>\n",
       "    </tr>\n",
       "    <tr>\n",
       "      <th>...</th>\n",
       "      <td>...</td>\n",
       "      <td>...</td>\n",
       "      <td>...</td>\n",
       "      <td>...</td>\n",
       "      <td>...</td>\n",
       "      <td>...</td>\n",
       "      <td>...</td>\n",
       "      <td>...</td>\n",
       "      <td>...</td>\n",
       "      <td>...</td>\n",
       "      <td>...</td>\n",
       "      <td>...</td>\n",
       "      <td>...</td>\n",
       "    </tr>\n",
       "    <tr>\n",
       "      <th>99757</th>\n",
       "      <td>3312354</td>\n",
       "      <td>1451563</td>\n",
       "      <td>2019</td>\n",
       "      <td>8</td>\n",
       "      <td>1312200</td>\n",
       "      <td>3</td>\n",
       "      <td>0.00</td>\n",
       "      <td>0.00</td>\n",
       "      <td>0.00</td>\n",
       "      <td>0</td>\n",
       "      <td>0</td>\n",
       "      <td>0</td>\n",
       "      <td>5</td>\n",
       "    </tr>\n",
       "    <tr>\n",
       "      <th>99758</th>\n",
       "      <td>3312354</td>\n",
       "      <td>1451563</td>\n",
       "      <td>2019</td>\n",
       "      <td>9</td>\n",
       "      <td>1312200</td>\n",
       "      <td>3</td>\n",
       "      <td>0.00</td>\n",
       "      <td>0.00</td>\n",
       "      <td>0.00</td>\n",
       "      <td>0</td>\n",
       "      <td>0</td>\n",
       "      <td>0</td>\n",
       "      <td>5</td>\n",
       "    </tr>\n",
       "    <tr>\n",
       "      <th>99759</th>\n",
       "      <td>3312354</td>\n",
       "      <td>1451563</td>\n",
       "      <td>2019</td>\n",
       "      <td>10</td>\n",
       "      <td>1312200</td>\n",
       "      <td>3</td>\n",
       "      <td>0.00</td>\n",
       "      <td>0.00</td>\n",
       "      <td>0.00</td>\n",
       "      <td>0</td>\n",
       "      <td>0</td>\n",
       "      <td>0</td>\n",
       "      <td>5</td>\n",
       "    </tr>\n",
       "    <tr>\n",
       "      <th>99760</th>\n",
       "      <td>3312354</td>\n",
       "      <td>1451563</td>\n",
       "      <td>2019</td>\n",
       "      <td>11</td>\n",
       "      <td>1312200</td>\n",
       "      <td>3</td>\n",
       "      <td>0.00</td>\n",
       "      <td>0.00</td>\n",
       "      <td>0.00</td>\n",
       "      <td>0</td>\n",
       "      <td>0</td>\n",
       "      <td>0</td>\n",
       "      <td>5</td>\n",
       "    </tr>\n",
       "    <tr>\n",
       "      <th>99761</th>\n",
       "      <td>3312354</td>\n",
       "      <td>1451563</td>\n",
       "      <td>2019</td>\n",
       "      <td>12</td>\n",
       "      <td>1312200</td>\n",
       "      <td>3</td>\n",
       "      <td>0.00</td>\n",
       "      <td>0.00</td>\n",
       "      <td>0.00</td>\n",
       "      <td>0</td>\n",
       "      <td>0</td>\n",
       "      <td>0</td>\n",
       "      <td>5</td>\n",
       "    </tr>\n",
       "  </tbody>\n",
       "</table>\n",
       "<p>99762 rows × 13 columns</p>\n",
       "</div>"
      ],
      "text/plain": [
       "          회사ID         연매출액    년도   월   월별_연금보험료  월별_직원수  성장율_연금보험료  성장율_직원수  \\\n",
       "0           63  11328779396  2018   1  403119840    1006       0.05     0.02   \n",
       "1           63  11328779396  2018   2  406770960    1018       0.05     0.02   \n",
       "2           63  11328779396  2018   3  404826240    1013       0.05     0.02   \n",
       "3           63  11328779396  2018   4  404211800    1012       0.05     0.02   \n",
       "4           63  11328779396  2018   5  400339640    1002       0.05     0.02   \n",
       "...        ...          ...   ...  ..        ...     ...        ...      ...   \n",
       "99757  3312354      1451563  2019   8    1312200       3       0.00     0.00   \n",
       "99758  3312354      1451563  2019   9    1312200       3       0.00     0.00   \n",
       "99759  3312354      1451563  2019  10    1312200       3       0.00     0.00   \n",
       "99760  3312354      1451563  2019  11    1312200       3       0.00     0.00   \n",
       "99761  3312354      1451563  2019  12    1312200       3       0.00     0.00   \n",
       "\n",
       "       성장율_연매출액  증감_연금보험료  증감_직원수  증감_연매출액  데이터보유기간  \n",
       "0          0.00  19614320      23        0       12  \n",
       "1          0.00  19614320      23        0       12  \n",
       "2          0.00  19614320      23        0       12  \n",
       "3          0.00  19614320      23        0       12  \n",
       "4          0.00  19614320      23        0       12  \n",
       "...         ...       ...     ...      ...      ...  \n",
       "99757      0.00         0       0        0        5  \n",
       "99758      0.00         0       0        0        5  \n",
       "99759      0.00         0       0        0        5  \n",
       "99760      0.00         0       0        0        5  \n",
       "99761      0.00         0       0        0        5  \n",
       "\n",
       "[99762 rows x 13 columns]"
      ]
     },
     "execution_count": 82,
     "metadata": {},
     "output_type": "execute_result"
    }
   ],
   "source": [
    "df_eda = df_eda.merge(df_periodsize, on='회사ID', how='left')\n",
    "df_eda"
   ]
  },
  {
   "cell_type": "code",
   "execution_count": 129,
   "metadata": {
    "hidden": true,
    "scrolled": true
   },
   "outputs": [
    {
     "data": {
      "text/plain": [
       "<matplotlib.axes._subplots.AxesSubplot at 0x1c4044e2128>"
      ]
     },
     "execution_count": 129,
     "metadata": {},
     "output_type": "execute_result"
    },
    {
     "data": {
      "image/png": "[encoded data removed]",
      "text/plain": [
       "<Figure size 432x288 with 1 Axes>"
      ]
     },
     "metadata": {},
     "output_type": "display_data"
    }
   ],
   "source": [
    "df_eda.groupby('회사ID').agg({'연매출액':'mean','월별_직원수':'mean', '월별_연금보험료' : 'mean','데이터보유기간':'mean'}).plot.scatter(x='연매출액',y='데이터보유기간', figsize=(6,4))"
   ]
  },
  {
   "cell_type": "markdown",
   "metadata": {
    "hidden": true
   },
   "source": [
    "- 연관성 없음 ! "
   ]
  },
  {
   "cell_type": "markdown",
   "metadata": {
    "heading_collapsed": true,
    "hidden": true
   },
   "source": [
    "### 연도별"
   ]
  },
  {
   "cell_type": "code",
   "execution_count": 463,
   "metadata": {
    "hidden": true,
    "scrolled": false
   },
   "outputs": [
    {
     "data": {
      "text/html": [
       "<div>\n",
       "<style scoped>\n",
       "    .dataframe tbody tr th:only-of-type {\n",
       "        vertical-align: middle;\n",
       "    }\n",
       "\n",
       "    .dataframe tbody tr th {\n",
       "        vertical-align: top;\n",
       "    }\n",
       "\n",
       "    .dataframe thead th {\n",
       "        text-align: right;\n",
       "    }\n",
       "</style>\n",
       "<table border=\"1\" class=\"dataframe\">\n",
       "  <thead>\n",
       "    <tr style=\"text-align: right;\">\n",
       "      <th></th>\n",
       "      <th>회사ID</th>\n",
       "      <th>년도</th>\n",
       "      <th>연매출액</th>\n",
       "      <th>월평균_직원수</th>\n",
       "      <th>월평균_연금보험료</th>\n",
       "    </tr>\n",
       "  </thead>\n",
       "  <tbody>\n",
       "    <tr>\n",
       "      <th>0</th>\n",
       "      <td>63</td>\n",
       "      <td>2018</td>\n",
       "      <td>11328779396</td>\n",
       "      <td>1007.17</td>\n",
       "      <td>410128228.33</td>\n",
       "    </tr>\n",
       "    <tr>\n",
       "      <th>1</th>\n",
       "      <td>102</td>\n",
       "      <td>2018</td>\n",
       "      <td>742658938</td>\n",
       "      <td>752.12</td>\n",
       "      <td>173769522.50</td>\n",
       "    </tr>\n",
       "    <tr>\n",
       "      <th>2</th>\n",
       "      <td>597</td>\n",
       "      <td>2018</td>\n",
       "      <td>208141595</td>\n",
       "      <td>178.83</td>\n",
       "      <td>54797751.67</td>\n",
       "    </tr>\n",
       "    <tr>\n",
       "      <th>3</th>\n",
       "      <td>786</td>\n",
       "      <td>2018</td>\n",
       "      <td>65514573</td>\n",
       "      <td>167.42</td>\n",
       "      <td>46053843.33</td>\n",
       "    </tr>\n",
       "    <tr>\n",
       "      <th>4</th>\n",
       "      <td>917</td>\n",
       "      <td>2018</td>\n",
       "      <td>42843708</td>\n",
       "      <td>148.67</td>\n",
       "      <td>48111878.33</td>\n",
       "    </tr>\n",
       "  </tbody>\n",
       "</table>\n",
       "</div>"
      ],
      "text/plain": [
       "   회사ID    년도         연매출액  월평균_직원수    월평균_연금보험료\n",
       "0    63  2018  11328779396  1007.17 410128228.33\n",
       "1   102  2018    742658938   752.12 173769522.50\n",
       "2   597  2018    208141595   178.83  54797751.67\n",
       "3   786  2018     65514573   167.42  46053843.33\n",
       "4   917  2018     42843708   148.67  48111878.33"
      ]
     },
     "execution_count": 463,
     "metadata": {},
     "output_type": "execute_result"
    }
   ],
   "source": [
    "df_sales = df.groupby(['회사ID','년도']).agg({'연매출액':'mean','월별_직원수':'mean', '월별_연금보험료' : 'mean'}).reset_index()\n",
    "df_sales.rename(columns={'월별_직원수':'월평균_직원수', '월별_연금보험료':'월평균_연금보험료'}, inplace=True)\n",
    "df_sales.head()"
   ]
  },
  {
   "cell_type": "code",
   "execution_count": 464,
   "metadata": {
    "hidden": true,
    "scrolled": false
   },
   "outputs": [
    {
     "data": {
      "text/html": [
       "<div>\n",
       "<style scoped>\n",
       "    .dataframe tbody tr th:only-of-type {\n",
       "        vertical-align: middle;\n",
       "    }\n",
       "\n",
       "    .dataframe tbody tr th {\n",
       "        vertical-align: top;\n",
       "    }\n",
       "\n",
       "    .dataframe thead th {\n",
       "        text-align: right;\n",
       "    }\n",
       "</style>\n",
       "<table border=\"1\" class=\"dataframe\">\n",
       "  <thead>\n",
       "    <tr style=\"text-align: right;\">\n",
       "      <th></th>\n",
       "      <th>회사ID</th>\n",
       "      <th>연수</th>\n",
       "    </tr>\n",
       "  </thead>\n",
       "  <tbody>\n",
       "    <tr>\n",
       "      <th>0</th>\n",
       "      <td>135668</td>\n",
       "      <td>5</td>\n",
       "    </tr>\n",
       "    <tr>\n",
       "      <th>1</th>\n",
       "      <td>404192</td>\n",
       "      <td>5</td>\n",
       "    </tr>\n",
       "    <tr>\n",
       "      <th>2</th>\n",
       "      <td>296819</td>\n",
       "      <td>5</td>\n",
       "    </tr>\n",
       "    <tr>\n",
       "      <th>3</th>\n",
       "      <td>14271</td>\n",
       "      <td>5</td>\n",
       "    </tr>\n",
       "    <tr>\n",
       "      <th>4</th>\n",
       "      <td>442467</td>\n",
       "      <td>5</td>\n",
       "    </tr>\n",
       "  </tbody>\n",
       "</table>\n",
       "</div>"
      ],
      "text/plain": [
       "     회사ID  연수\n",
       "0  135668   5\n",
       "1  404192   5\n",
       "2  296819   5\n",
       "3   14271   5\n",
       "4  442467   5"
      ]
     },
     "execution_count": 464,
     "metadata": {},
     "output_type": "execute_result"
    }
   ],
   "source": [
    "df_year = pd.DataFrame(df_sales.value_counts('회사ID')).reset_index().rename(columns={0:'연수'})\n",
    "df_year.head()"
   ]
  },
  {
   "cell_type": "code",
   "execution_count": 465,
   "metadata": {
    "hidden": true,
    "scrolled": true
   },
   "outputs": [
    {
     "data": {
      "text/plain": [
       "<AxesSubplot:>"
      ]
     },
     "execution_count": 465,
     "metadata": {},
     "output_type": "execute_result"
    },
    {
     "data": {
      "image/png": "[encoded data removed]",
      "text/plain": [
       "<Figure size 432x288 with 1 Axes>"
      ]
     },
     "metadata": {
      "needs_background": "light"
     },
     "output_type": "display_data"
    }
   ],
   "source": [
    "df_year['연수'].value_counts().plot.bar(rot=0)"
   ]
  },
  {
   "cell_type": "code",
   "execution_count": null,
   "metadata": {
    "hidden": true
   },
   "outputs": [],
   "source": []
  },
  {
   "cell_type": "markdown",
   "metadata": {
    "hidden": true
   },
   "source": [
    "- 데이터셋에 기간편차 존재 : 회사마다 데이터 기간이 상이함\n",
    "- 1개년치 데이터만 보유한 기업이 50%"
   ]
  },
  {
   "cell_type": "code",
   "execution_count": 466,
   "metadata": {
    "hidden": true,
    "scrolled": false
   },
   "outputs": [
    {
     "data": {
      "text/html": [
       "<div>\n",
       "<style scoped>\n",
       "    .dataframe tbody tr th:only-of-type {\n",
       "        vertical-align: middle;\n",
       "    }\n",
       "\n",
       "    .dataframe tbody tr th {\n",
       "        vertical-align: top;\n",
       "    }\n",
       "\n",
       "    .dataframe thead th {\n",
       "        text-align: right;\n",
       "    }\n",
       "</style>\n",
       "<table border=\"1\" class=\"dataframe\">\n",
       "  <thead>\n",
       "    <tr style=\"text-align: right;\">\n",
       "      <th></th>\n",
       "      <th>회사ID</th>\n",
       "      <th>연수</th>\n",
       "      <th>연평균_매출액</th>\n",
       "      <th>연평균_직원수</th>\n",
       "      <th>연평균_연금보험료</th>\n",
       "    </tr>\n",
       "  </thead>\n",
       "  <tbody>\n",
       "    <tr>\n",
       "      <th>0</th>\n",
       "      <td>135668</td>\n",
       "      <td>5</td>\n",
       "      <td>22746407.60</td>\n",
       "      <td>32.95</td>\n",
       "      <td>9118156.67</td>\n",
       "    </tr>\n",
       "    <tr>\n",
       "      <th>1</th>\n",
       "      <td>404192</td>\n",
       "      <td>5</td>\n",
       "      <td>6817502.80</td>\n",
       "      <td>86.88</td>\n",
       "      <td>22606934.67</td>\n",
       "    </tr>\n",
       "    <tr>\n",
       "      <th>2</th>\n",
       "      <td>296819</td>\n",
       "      <td>5</td>\n",
       "      <td>13545635.20</td>\n",
       "      <td>47.55</td>\n",
       "      <td>15822334.00</td>\n",
       "    </tr>\n",
       "    <tr>\n",
       "      <th>3</th>\n",
       "      <td>14271</td>\n",
       "      <td>5</td>\n",
       "      <td>5578039.80</td>\n",
       "      <td>17.45</td>\n",
       "      <td>3886142.33</td>\n",
       "    </tr>\n",
       "    <tr>\n",
       "      <th>4</th>\n",
       "      <td>442467</td>\n",
       "      <td>5</td>\n",
       "      <td>24874211.20</td>\n",
       "      <td>32.38</td>\n",
       "      <td>7048736.67</td>\n",
       "    </tr>\n",
       "  </tbody>\n",
       "</table>\n",
       "</div>"
      ],
      "text/plain": [
       "     회사ID  연수     연평균_매출액  연평균_직원수   연평균_연금보험료\n",
       "0  135668   5 22746407.60    32.95  9118156.67\n",
       "1  404192   5  6817502.80    86.88 22606934.67\n",
       "2  296819   5 13545635.20    47.55 15822334.00\n",
       "3   14271   5  5578039.80    17.45  3886142.33\n",
       "4  442467   5 24874211.20    32.38  7048736.67"
      ]
     },
     "execution_count": 466,
     "metadata": {},
     "output_type": "execute_result"
    }
   ],
   "source": [
    "df_year= df_year.merge(df_sales.groupby('회사ID').agg({'연매출액':'mean', \n",
    "                                            '월평균_직원수':'mean',\n",
    "                                            '월평균_연금보험료':'mean'}\n",
    "                                          ).reset_index().rename(columns={'연매출액':'연평균_매출액',\n",
    "                                                                         '월평균_직원수':'연평균_직원수',\n",
    "                                                                         '월평균_연금보험료':'연평균_연금보험료'}),\n",
    "              how='inner', on='회사ID')\n",
    "df_year.head()"
   ]
  },
  {
   "cell_type": "code",
   "execution_count": 467,
   "metadata": {
    "hidden": true,
    "scrolled": true
   },
   "outputs": [
    {
     "data": {
      "text/html": [
       "<div>\n",
       "<style scoped>\n",
       "    .dataframe tbody tr th:only-of-type {\n",
       "        vertical-align: middle;\n",
       "    }\n",
       "\n",
       "    .dataframe tbody tr th {\n",
       "        vertical-align: top;\n",
       "    }\n",
       "\n",
       "    .dataframe thead th {\n",
       "        text-align: right;\n",
       "    }\n",
       "</style>\n",
       "<table border=\"1\" class=\"dataframe\">\n",
       "  <thead>\n",
       "    <tr style=\"text-align: right;\">\n",
       "      <th></th>\n",
       "      <th>회사ID</th>\n",
       "      <th>연수</th>\n",
       "      <th>연평균_매출액</th>\n",
       "      <th>연평균_직원수</th>\n",
       "      <th>연평균_연금보험료</th>\n",
       "      <th>1인당연평균매출액</th>\n",
       "    </tr>\n",
       "  </thead>\n",
       "  <tbody>\n",
       "    <tr>\n",
       "      <th>0</th>\n",
       "      <td>135668</td>\n",
       "      <td>5</td>\n",
       "      <td>22746407.60</td>\n",
       "      <td>32.95</td>\n",
       "      <td>9118156.67</td>\n",
       "      <td>690331.03</td>\n",
       "    </tr>\n",
       "    <tr>\n",
       "      <th>1</th>\n",
       "      <td>404192</td>\n",
       "      <td>5</td>\n",
       "      <td>6817502.80</td>\n",
       "      <td>86.88</td>\n",
       "      <td>22606934.67</td>\n",
       "      <td>78467.33</td>\n",
       "    </tr>\n",
       "    <tr>\n",
       "      <th>2</th>\n",
       "      <td>296819</td>\n",
       "      <td>5</td>\n",
       "      <td>13545635.20</td>\n",
       "      <td>47.55</td>\n",
       "      <td>15822334.00</td>\n",
       "      <td>284871.40</td>\n",
       "    </tr>\n",
       "    <tr>\n",
       "      <th>3</th>\n",
       "      <td>14271</td>\n",
       "      <td>5</td>\n",
       "      <td>5578039.80</td>\n",
       "      <td>17.45</td>\n",
       "      <td>3886142.33</td>\n",
       "      <td>319658.44</td>\n",
       "    </tr>\n",
       "    <tr>\n",
       "      <th>4</th>\n",
       "      <td>442467</td>\n",
       "      <td>5</td>\n",
       "      <td>24874211.20</td>\n",
       "      <td>32.38</td>\n",
       "      <td>7048736.67</td>\n",
       "      <td>768117.69</td>\n",
       "    </tr>\n",
       "  </tbody>\n",
       "</table>\n",
       "</div>"
      ],
      "text/plain": [
       "     회사ID  연수     연평균_매출액  연평균_직원수   연평균_연금보험료  1인당연평균매출액\n",
       "0  135668   5 22746407.60    32.95  9118156.67  690331.03\n",
       "1  404192   5  6817502.80    86.88 22606934.67   78467.33\n",
       "2  296819   5 13545635.20    47.55 15822334.00  284871.40\n",
       "3   14271   5  5578039.80    17.45  3886142.33  319658.44\n",
       "4  442467   5 24874211.20    32.38  7048736.67  768117.69"
      ]
     },
     "execution_count": 467,
     "metadata": {},
     "output_type": "execute_result"
    }
   ],
   "source": [
    "df_year['1인당연평균매출액']=df_year['연평균_매출액']/df_year['연평균_직원수']\n",
    "df_year.head()"
   ]
  },
  {
   "cell_type": "markdown",
   "metadata": {
    "hidden": true
   },
   "source": [
    "- 직원 수가 감소한 곳은 분석 대상에서 제외"
   ]
  },
  {
   "cell_type": "code",
   "execution_count": 189,
   "metadata": {
    "hidden": true
   },
   "outputs": [
    {
     "data": {
      "text/plain": [
       "<pandas.core.groupby.generic.DataFrameGroupBy object at 0x0000025F1B7C0B20>"
      ]
     },
     "execution_count": 189,
     "metadata": {},
     "output_type": "execute_result"
    }
   ],
   "source": [
    "df.groupby(['회사ID','년도','월'])."
   ]
  },
  {
   "cell_type": "code",
   "execution_count": 479,
   "metadata": {
    "hidden": true
   },
   "outputs": [
    {
     "data": {
      "text/plain": [
       "<AxesSubplot:>"
      ]
     },
     "execution_count": 479,
     "metadata": {},
     "output_type": "execute_result"
    },
    {
     "data": {
      "image/png": "[encoded data removed]",
      "text/plain": [
       "<Figure size 432x288 with 1 Axes>"
      ]
     },
     "metadata": {
      "needs_background": "light"
     },
     "output_type": "display_data"
    }
   ],
   "source": [
    "sns.lineplot(data=df, x='df[df['회사ID']==233757]['월별_직원수'].plot.line()"
   ]
  },
  {
   "cell_type": "code",
   "execution_count": 308,
   "metadata": {
    "hidden": true,
    "scrolled": true
   },
   "outputs": [
    {
     "data": {
      "text/plain": [
       "<AxesSubplot:xlabel='연평균_연금보험료', ylabel='연평균_직원수'>"
      ]
     },
     "execution_count": 308,
     "metadata": {},
     "output_type": "execute_result"
    },
    {
     "name": "stderr",
     "output_type": "stream",
     "text": [
      "C:\\Users\\GU844RW\\Anaconda3\\lib\\site-packages\\matplotlib\\backends\\backend_agg.py:238: RuntimeWarning: Glyph 50672 missing from current font.\n",
      "  font.set_text(s, 0.0, flags=flags)\n",
      "C:\\Users\\GU844RW\\Anaconda3\\lib\\site-packages\\matplotlib\\backends\\backend_agg.py:238: RuntimeWarning: Glyph 54217 missing from current font.\n",
      "  font.set_text(s, 0.0, flags=flags)\n",
      "C:\\Users\\GU844RW\\Anaconda3\\lib\\site-packages\\matplotlib\\backends\\backend_agg.py:238: RuntimeWarning: Glyph 44512 missing from current font.\n",
      "  font.set_text(s, 0.0, flags=flags)\n",
      "C:\\Users\\GU844RW\\Anaconda3\\lib\\site-packages\\matplotlib\\backends\\backend_agg.py:238: RuntimeWarning: Glyph 44552 missing from current font.\n",
      "  font.set_text(s, 0.0, flags=flags)\n",
      "C:\\Users\\GU844RW\\Anaconda3\\lib\\site-packages\\matplotlib\\backends\\backend_agg.py:238: RuntimeWarning: Glyph 48372 missing from current font.\n",
      "  font.set_text(s, 0.0, flags=flags)\n",
      "C:\\Users\\GU844RW\\Anaconda3\\lib\\site-packages\\matplotlib\\backends\\backend_agg.py:238: RuntimeWarning: Glyph 54744 missing from current font.\n",
      "  font.set_text(s, 0.0, flags=flags)\n",
      "C:\\Users\\GU844RW\\Anaconda3\\lib\\site-packages\\matplotlib\\backends\\backend_agg.py:238: RuntimeWarning: Glyph 47308 missing from current font.\n",
      "  font.set_text(s, 0.0, flags=flags)\n",
      "C:\\Users\\GU844RW\\Anaconda3\\lib\\site-packages\\matplotlib\\backends\\backend_agg.py:238: RuntimeWarning: Glyph 51649 missing from current font.\n",
      "  font.set_text(s, 0.0, flags=flags)\n",
      "C:\\Users\\GU844RW\\Anaconda3\\lib\\site-packages\\matplotlib\\backends\\backend_agg.py:238: RuntimeWarning: Glyph 50896 missing from current font.\n",
      "  font.set_text(s, 0.0, flags=flags)\n",
      "C:\\Users\\GU844RW\\Anaconda3\\lib\\site-packages\\matplotlib\\backends\\backend_agg.py:238: RuntimeWarning: Glyph 49688 missing from current font.\n",
      "  font.set_text(s, 0.0, flags=flags)\n",
      "C:\\Users\\GU844RW\\Anaconda3\\lib\\site-packages\\matplotlib\\backends\\backend_agg.py:201: RuntimeWarning: Glyph 50672 missing from current font.\n",
      "  font.set_text(s, 0, flags=flags)\n",
      "C:\\Users\\GU844RW\\Anaconda3\\lib\\site-packages\\matplotlib\\backends\\backend_agg.py:201: RuntimeWarning: Glyph 54217 missing from current font.\n",
      "  font.set_text(s, 0, flags=flags)\n",
      "C:\\Users\\GU844RW\\Anaconda3\\lib\\site-packages\\matplotlib\\backends\\backend_agg.py:201: RuntimeWarning: Glyph 44512 missing from current font.\n",
      "  font.set_text(s, 0, flags=flags)\n",
      "C:\\Users\\GU844RW\\Anaconda3\\lib\\site-packages\\matplotlib\\backends\\backend_agg.py:201: RuntimeWarning: Glyph 44552 missing from current font.\n",
      "  font.set_text(s, 0, flags=flags)\n",
      "C:\\Users\\GU844RW\\Anaconda3\\lib\\site-packages\\matplotlib\\backends\\backend_agg.py:201: RuntimeWarning: Glyph 48372 missing from current font.\n",
      "  font.set_text(s, 0, flags=flags)\n",
      "C:\\Users\\GU844RW\\Anaconda3\\lib\\site-packages\\matplotlib\\backends\\backend_agg.py:201: RuntimeWarning: Glyph 54744 missing from current font.\n",
      "  font.set_text(s, 0, flags=flags)\n",
      "C:\\Users\\GU844RW\\Anaconda3\\lib\\site-packages\\matplotlib\\backends\\backend_agg.py:201: RuntimeWarning: Glyph 47308 missing from current font.\n",
      "  font.set_text(s, 0, flags=flags)\n",
      "C:\\Users\\GU844RW\\Anaconda3\\lib\\site-packages\\matplotlib\\backends\\backend_agg.py:201: RuntimeWarning: Glyph 51649 missing from current font.\n",
      "  font.set_text(s, 0, flags=flags)\n",
      "C:\\Users\\GU844RW\\Anaconda3\\lib\\site-packages\\matplotlib\\backends\\backend_agg.py:201: RuntimeWarning: Glyph 50896 missing from current font.\n",
      "  font.set_text(s, 0, flags=flags)\n",
      "C:\\Users\\GU844RW\\Anaconda3\\lib\\site-packages\\matplotlib\\backends\\backend_agg.py:201: RuntimeWarning: Glyph 49688 missing from current font.\n",
      "  font.set_text(s, 0, flags=flags)\n"
     ]
    },
    {
     "data": {
      "image/png": "[encoded data removed]",
      "text/plain": [
       "<Figure size 360x360 with 1 Axes>"
      ]
     },
     "metadata": {
      "needs_background": "light"
     },
     "output_type": "display_data"
    }
   ],
   "source": [
    "plt.figure(figsize =(5,5))\n",
    "sns.scatterplot(data = df_year, x='연평균_연금보험료',y='연평균_직원수')"
   ]
  },
  {
   "cell_type": "markdown",
   "metadata": {
    "hidden": true
   },
   "source": [
    "- 직원수와 연금보험료 거의 동일"
   ]
  },
  {
   "cell_type": "markdown",
   "metadata": {
    "hidden": true
   },
   "source": [
    "#### 데이터 보유기간별 회사 추이 파악"
   ]
  },
  {
   "cell_type": "markdown",
   "metadata": {
    "heading_collapsed": true
   },
   "source": [
    "## 유니콘 기업 지수 (스코어링) 산출 방향성\n",
    "1. 직원수로 class 구분 \n",
    "2. 스코어링 지표 1-5점 척도\n",
    "> - 1인당 매출액\n",
    "> - 연성장율_연금보험료\n",
    "> - 연성장율_직원수\n",
    "> - 연성장율_매출액\n"
   ]
  },
  {
   "cell_type": "code",
   "execution_count": null,
   "metadata": {
    "hidden": true
   },
   "outputs": [],
   "source": []
  },
  {
   "cell_type": "code",
   "execution_count": null,
   "metadata": {
    "hidden": true
   },
   "outputs": [],
   "source": []
  },
  {
   "cell_type": "code",
   "execution_count": null,
   "metadata": {
    "hidden": true
   },
   "outputs": [],
   "source": []
  }
 ],
 "metadata": {
  "kernelspec": {
   "display_name": "Python 3",
   "language": "python",
   "name": "python3"
  },
  "language_info": {
   "codemirror_mode": {
    "name": "ipython",
    "version": 3
   },
   "file_extension": ".py",
   "mimetype": "text/x-python",
   "name": "python",
   "nbconvert_exporter": "python",
   "pygments_lexer": "ipython3",
   "version": "3.7.3"
  },
  "latex_envs": {
   "LaTeX_envs_menu_present": true,
   "autoclose": true,
   "autocomplete": true,
   "bibliofile": "biblio.bib",
   "cite_by": "apalike",
   "current_citInitial": 1,
   "eqLabelWithNumbers": true,
   "eqNumInitial": 1,
   "hotkeys": {
    "equation": "Ctrl-E",
    "itemize": "Ctrl-I"
   },
   "labels_anchors": false,
   "latex_user_defs": false,
   "report_style_numbering": false,
   "user_envs_cfg": false
  },
  "toc": {
   "base_numbering": 1,
   "nav_menu": {},
   "number_sections": true,
   "sideBar": true,
   "skip_h1_title": false,
   "title_cell": "Table of Contents",
   "title_sidebar": "Contents",
   "toc_cell": false,
   "toc_position": {
    "height": "calc(100% - 180px)",
    "left": "10px",
    "top": "150px",
    "width": "165px"
   },
   "toc_section_display": true,
   "toc_window_display": true
  },
  "varInspector": {
   "cols": {
    "lenName": 16,
    "lenType": 16,
    "lenVar": 40
   },
   "kernels_config": {
    "python": {
     "delete_cmd_postfix": "",
     "delete_cmd_prefix": "del ",
     "library": "var_list.py",
     "varRefreshCmd": "print(var_dic_list())"
    },
    "r": {
     "delete_cmd_postfix": ") ",
     "delete_cmd_prefix": "rm(",
     "library": "var_list.r",
     "varRefreshCmd": "cat(var_dic_list()) "
    }
   },
   "types_to_exclude": [
    "module",
    "function",
    "builtin_function_or_method",
    "instance",
    "_Feature"
   ],
   "window_display": false
  }
 },
 "nbformat": 4,
 "nbformat_minor": 4
}
